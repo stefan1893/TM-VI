{
 "nbformat": 4,
 "nbformat_minor": 0,
 "metadata": {
  "colab": {
   "name": "02_small_and_shallow_networks.ipynb",
   "provenance": [],
   "collapsed_sections": [],
   "include_colab_link": true
  },
  "kernelspec": {
   "name": "python3",
   "language": "python",
   "display_name": "Python 3"
  },
  "language_info": {
   "codemirror_mode": {
    "name": "ipython",
    "version": 3
   },
   "file_extension": ".py",
   "mimetype": "text/x-python",
   "name": "python",
   "nbconvert_exporter": "python",
   "pygments_lexer": "ipython3",
   "version": "3.7.9"
  }
 },
 "cells": [
  {
   "cell_type": "markdown",
   "metadata": {
    "id": "view-in-github",
    "colab_type": "text"
   },
   "source": [
    "<a href=\"https://colab.research.google.com/github/stefan1893/TM-VI/blob/main/ipynb/02_small_and_shallow_networks.ipynb\" target=\"_parent\"><img src=\"https://colab.research.google.com/assets/colab-badge.svg\" alt=\"Open In Colab\"/></a>"
   ]
  },
  {
   "cell_type": "markdown",
   "metadata": {
    "id": "hs-UynK3DLZL"
   },
   "source": [
    "# Small and shallow networks"
   ]
  },
  {
   "cell_type": "code",
   "metadata": {
    "colab": {
     "base_uri": "https://localhost:8080/"
    },
    "id": "lVB7WkyXtewR",
    "tags": [],
    "outputId": "ebcd5845-7d66-4716-82bd-2044aafd4d76"
   },
   "source": [
    "import matplotlib.pyplot as plt\n",
    "import matplotlib.animation as animation\n",
    "import numpy as np\n",
    "import tensorflow as tf\n",
    "import sys\n",
    "%load_ext autoreload\n",
    "%autoreload 2\n",
    "\n",
    "\n",
    "try: #If running in colab\n",
    "    import google.colab\n",
    "    IN_COLAB = True\n",
    "    %tensorflow_version 2.x\n",
    "    #upload vimlts.py first\n",
    "    !wget https://raw.githubusercontent.com/stefan1893/TM-VI/main/src/vimlts.py\n",
    "    !wget https://raw.githubusercontent.com/stefan1893/TM-VI/main/src/vigauss_keras.py\n",
    "    !wget https://raw.githubusercontent.com/stefan1893/TM-VI/main/src/vimlts_fast.py\n",
    "    sys.path.append(\".\")\n",
    "    from vimlts import VIMLTS\n",
    "    from vigauss_keras import DenseVIGAUSS\n",
    "    from vimlts_fast import VimltsLinear\n",
    "except:\n",
    "    IN_COLAB = False\n",
    "    sys.path.append('../')\n",
    "    import src.vimlts_utils_keras as VIMLTS_utils\n",
    "    from src.vimlts import VIMLTS\n",
    "    from src.vigauss_keras import DenseVIGAUSS\n",
    "    from src.vimlts_keras import DenseVIMLTS\n",
    "    from src.vimlts_fast import VimltsLinear\n",
    "    # Use GPU\n",
    "    # physical_devices = tf.config.list_physical_devices('GPU')\n",
    "    # tf.config.experimental.set_memory_growth(physical_devices[0], True)\n",
    "\n",
    "import tensorflow_probability as tfp\n",
    "import tensorflow.keras as keras\n",
    "import pandas as pd\n",
    "import pystan\n",
    "import scipy.stats as stats\n",
    "import scipy.signal\n",
    "import seaborn as sns\n",
    "import tqdm\n",
    "import datetime\n",
    "import sys\n",
    "import ctypes\n",
    "import pickle\n",
    "from tensorflow.keras import backend as K\n",
    "from tensorflow.keras.layers import Layer\n",
    "from tensorflow.keras.layers import Input\n",
    "from tensorflow.keras.models import Model\n",
    "from tensorflow.keras import callbacks, optimizers\n",
    "from IPython.display import display, clear_output, HTML\n",
    "from numpy import trapz\n",
    "from scipy.stats import norm\n",
    "\n",
    "\n",
    "tfd=tfp.distributions\n",
    "\n",
    "print('Tensorflow version: ',tf.__version__, )"
   ],
   "execution_count": 8,
   "outputs": [
    {
     "name": "stdout",
     "output_type": "stream",
     "text": [
      "The autoreload extension is already loaded. To reload it, use:\n",
      "  %reload_ext autoreload\n",
      "Tensorflow version:  2.4.1\n"
     ]
    }
   ]
  },
  {
   "cell_type": "markdown",
   "metadata": {
    "id": "IgBziKcfDLZO"
   },
   "source": [
    "## Data generating process"
   ]
  },
  {
   "cell_type": "code",
   "metadata": {
    "id": "oV7xWMeoDLZO"
   },
   "source": [
    "def get_toy_data_3(\n",
    "    noise_scale,\n",
    "    train_size,\n",
    "    test_size,\n",
    "    true_size,\n",
    "    use_hole\n",
    "):\n",
    "    tf.random.set_seed(2)\n",
    "\n",
    "    train_xlim = 6.\n",
    "    test_xlim = 6.5\n",
    "    true_xlim = 6.5\n",
    "\n",
    "    # True function\n",
    "    target_fn = lambda x: np.sin(x)\n",
    "\n",
    "    # Train samples\n",
    "    if use_hole:\n",
    "        half_train_size = train_size // 2\n",
    "        train_xs_left = tfd.Uniform(low = -train_xlim, high = -train_xlim/3).sample(sample_shape = (half_train_size, 1))\n",
    "        train_xs_right = tfd.Uniform(low = train_xlim/3, high = train_xlim).sample(sample_shape = (half_train_size, 1))\n",
    "        train_xs = np.concatenate((train_xs_left, train_xs_right))\n",
    "    else:\n",
    "        train_xs = np.linspace(-train_xlim,train_xlim,train_size)\n",
    "        train_xs = np.reshape(train_xs,[-1,1])\n",
    "\n",
    "\n",
    "    train_ys = target_fn(train_xs)\n",
    "    train_ys += noise_scale * tfd.Normal(loc=0.,scale=1.).sample(sample_shape = (train_size, 1))\n",
    "\n",
    "    # Test samples\n",
    "    test_xs = np.linspace(-test_xlim,test_xlim,test_size)\n",
    "    test_xs = np.reshape(test_xs,[-1,1])\n",
    "    test_ys = target_fn(test_xs)\n",
    "    test_ys += noise_scale * tfd.Normal(loc=0.,scale=1.).sample(sample_shape = (test_size, 1))\n",
    "\n",
    "    # True\n",
    "    true_xs = np.linspace(-true_xlim, true_xlim, true_size)\n",
    "    true_xs = np.reshape(true_xs, (true_size, 1))\n",
    "    true_ys = target_fn(true_xs)\n",
    "\n",
    "\n",
    "    return train_xs, train_ys, test_xs, test_ys, true_xs, true_ys"
   ],
   "execution_count": 2,
   "outputs": []
  },
  {
   "cell_type": "code",
   "metadata": {
    "id": "QA575jbLDLZP",
    "colab": {
     "base_uri": "https://localhost:8080/",
     "height": 295
    },
    "outputId": "5835310a-b96d-4787-a65a-f96b76174cc5"
   },
   "source": [
    "sigma = noise  = .2\n",
    "num = train_size = 16\n",
    "test_size = 1000\n",
    "true_size = 1000\n",
    "\n",
    "data_file = \"02_small_and_shallow_networks.npz\"\n",
    "try:\n",
    "    def unpack(x, y, x_test, y_test, x_true, y_true):\n",
    "        return x, y, x_test, y_test, x_true, y_true\n",
    "    x, y, x_test, y_test, x_true, y_true = unpack(**np.load(data_file))\n",
    "    print(\"load data\")\n",
    "except Exception as e:\n",
    "    print(\"create data\")\n",
    "    print(e)\n",
    "    x, y, x_test, y_test, x_true, y_true = get_toy_data_3(sigma, train_size, test_size, true_size,use_hole=1)\n",
    "    np.savez(data_file, x=x,y=y,x_test=x_test, y_test=y_test, x_true=x_true ,y_true=y_true)\n",
    "y=np.reshape(y,[-1])\n",
    "y_test=np.reshape(y_test,[-1])\n",
    "\n",
    "plt.figure()\n",
    "plt.scatter(x_test,y_test, marker='.', color='g',label=r\"Test data\",alpha=0.2)\n",
    "plt.scatter(x,y, marker='.', color='r',label=r\"Data\")\n",
    "plt.plot(x_true,y_true,color=\"darkorange\",label=r\"True function\")\n",
    "plt.grid()\n",
    "plt.legend()\n",
    "plt.ylabel(r\"$y$\")\n",
    "plt.xlabel(r\"$x$\")\n",
    "plt.title(r'Data');"
   ],
   "execution_count": 3,
   "outputs": [
    {
     "name": "stdout",
     "output_type": "stream",
     "text": [
      "load data\n"
     ]
    },
    {
     "data": {
      "text/plain": "<Figure size 432x288 with 1 Axes>",
      "image/png": "[encoded data removed]"
     },
     "metadata": {
      "needs_background": "light"
     },
     "output_type": "display_data"
    }
   ]
  },
  {
   "cell_type": "markdown",
   "metadata": {
    "id": "AsCKj4cODLZP"
   },
   "source": [
    "## Common hyperparameter"
   ]
  },
  {
   "cell_type": "code",
   "metadata": {
    "id": "UTt_qjQZDLZQ"
   },
   "source": [
    "# Number of epochs\n",
    "epochs=4000\n",
    "\n",
    "# Number of hidden units for the single hidden layer\n",
    "num_hidden_units=3\n",
    "\n",
    "# Number of samples psi to approximate the expected value\n",
    "num_samples_per_epoch=6\n",
    "\n",
    "# Range for the PPD\n",
    "num_xx=3000\n",
    "xx = np.linspace(-11, 11, num_xx).reshape(-1, 1)\n",
    "\n",
    "# Number of predictions for the PPD\n",
    "num_predictions=100\n",
    "\n",
    "# Learning rate and clip norm\n",
    "lr=0.03\n",
    "cn=2\n",
    "\n",
    "# Train parameters\n",
    "batch_size = train_size\n",
    "num_batches = train_size / batch_size\n",
    "kl_weight = 1.0 / num_batches\n",
    "\n",
    "# Prior\n",
    "prior_params = {\n",
    "    'prior_mu': 0., \n",
    "    'prior_sigma': 1.\n",
    "}\n",
    "\n",
    "prior_dist=tfd.Normal(loc=0.,scale=1.)"
   ],
   "execution_count": 4,
   "outputs": []
  },
  {
   "cell_type": "markdown",
   "metadata": {
    "id": "Pcrt_nSVDLZQ"
   },
   "source": [
    "## Common functions"
   ]
  },
  {
   "cell_type": "code",
   "metadata": {
    "id": "PHNpWM67DLZQ"
   },
   "source": [
    "def neg_log_likelihood(y_obs, y_pred, sigma=noise):\n",
    "    dist = tfp.distributions.Normal(loc=y_pred, scale=sigma)\n",
    "    return K.sum(-dist.log_prob(y_obs))"
   ],
   "execution_count": 52,
   "outputs": []
  },
  {
   "cell_type": "markdown",
   "metadata": {
    "id": "GqSQ4kRGDLZR"
   },
   "source": [
    "## Ground truth\n",
    "*Note: MCMC code is only constructed for a single hidden layer network.*\n"
   ]
  },
  {
   "cell_type": "code",
   "metadata": {
    "id": "rQWCPj4SDLZR"
   },
   "source": [
    "use_mcmc=True"
   ],
   "execution_count": 31,
   "outputs": []
  },
  {
   "cell_type": "code",
   "metadata": {
    "id": "4zVMuVE6DLZR"
   },
   "source": [
    "def plot_trace(param, param_name='parameter'):\n",
    "    \"\"\"Plot the trace and posterior of a parameter.\"\"\"\n",
    "\n",
    "    # Summary statistics\n",
    "    mean = np.mean(param)\n",
    "    median = np.median(param)\n",
    "    cred_min, cred_max = np.percentile(param, 2.5), np.percentile(param, 97.5)\n",
    "\n",
    "    # Plotting\n",
    "    plt.subplot(2,1,1)\n",
    "    plt.plot(param)\n",
    "    plt.xlabel(r'samples')\n",
    "    plt.ylabel(param_name)\n",
    "    plt.axhline(mean, color='r', lw=2, linestyle='--')\n",
    "    plt.axhline(median, color='c', lw=2, linestyle='--')\n",
    "    plt.axhline(cred_min, linestyle=':', color='k', alpha=0.9)\n",
    "    plt.axhline(cred_max, linestyle=':', color='k', alpha=0.9)\n",
    "    plt.title(r'Trace and Posterior Distribution for {}'.format(param_name))\n",
    "\n",
    "    plt.subplot(2,1,2)\n",
    "    plt.hist(param, 30,zorder=1, density=True); sns.kdeplot(param,color='g',zorder=2, shade=True, label=r'kde')\n",
    "    plt.xlabel(param_name)\n",
    "    plt.ylabel(r'density')\n",
    "    plt.axvline(mean, color='r', lw=2, linestyle='--',label=r'mean')\n",
    "    plt.axvline(median, color='c', lw=2, linestyle='--',label=r'median')\n",
    "    plt.axvline(cred_min, linestyle=':', color='k', alpha=0.9, label=r'95% CI')\n",
    "    plt.axvline(cred_max, linestyle=':', color='k', alpha=0.9)\n",
    "\n",
    "    plt.gcf().tight_layout()\n",
    "    plt.legend()"
   ],
   "execution_count": 32,
   "outputs": []
  },
  {
   "cell_type": "code",
   "metadata": {
    "id": "Fs19XIAzDLZS",
    "colab": {
     "base_uri": "https://localhost:8080/"
    },
    "outputId": "8f80563d-a5e0-4e3e-d856-9506e870cbdc"
   },
   "source": [
    "if use_mcmc:\n",
    "  stan_code = \"\"\"\n",
    "functions {\n",
    "\tmatrix selfmade_relu(matrix z, int a_rows, int a_columns){\n",
    "\t  matrix[a_rows, a_columns] a;\n",
    "\t  for (i in 1:a_rows){\n",
    "\t\t\tfor (j in 1:a_columns){\n",
    "\t\t\t\tif(z[i,j]>0){\n",
    "\t\t\t\t\ta[i,j]=z[i,j];\n",
    "\t\t\t\t}\n",
    "\t\t\t\telse{\n",
    "\t\t\t\t\ta[i,j]=0;\n",
    "\t\t\t\t}\n",
    "\t\t\t}\n",
    "\t  }\n",
    "\t  return a;\n",
    "\t}\n",
    "\n",
    "\tvector calculate_mu(matrix X, matrix bias_first_m, matrix[] bias_middle_m,real bias_output, matrix w_first, matrix[] w_middle, vector w_output,int num_layers) {\n",
    "\t\tint N = rows(X);\n",
    "\t\tint num_nodes = rows(w_first);\n",
    "\t\tmatrix[N, num_nodes] layer_values[num_layers - 1];\n",
    "\t\tvector[N] mu;\n",
    "\n",
    "\t\tlayer_values[1] = selfmade_relu(bias_first_m + X * w_first',N,num_nodes); \n",
    "\t\tfor(i in 2:(num_layers - 1)) \n",
    "\t\t  layer_values[i] = selfmade_relu(bias_middle_m[i - 1] + layer_values[i - 1] * w_middle[i - 1]',N,num_nodes);\n",
    "\t\tmu = bias_output + layer_values[num_layers - 1] * w_output;\n",
    "\n",
    "\t\treturn mu;\n",
    "\t}\n",
    "}\n",
    "data {\n",
    "  int<lower=0> N;\n",
    "  int<lower=0> d;\n",
    "  int<lower=0> num_nodes;\n",
    "  int<lower=1> num_middle_layers;\n",
    "  matrix[N,d] X;\n",
    "  real y[N];\n",
    "  int<lower=0> Nt;\n",
    "  matrix[Nt,d] Xt;\n",
    "  real<lower=0> sigma;\t\t\t\t\t// Konstantes sigma\n",
    "}\n",
    "transformed data {\n",
    "  int num_layers;\n",
    "  num_layers = num_middle_layers + 1;\n",
    "}\n",
    "parameters {\n",
    "  vector[num_nodes] bias_first;\n",
    "  vector[num_nodes] bias_middle[num_middle_layers];\n",
    "  real bias_output;\n",
    "  matrix[num_nodes, d] w_first;\n",
    "  matrix[num_nodes, num_nodes] w_middle[num_middle_layers];\n",
    "  vector[num_nodes] w_output;\n",
    "// hyperparameters\n",
    "  real<lower=0> bias_first_h;\n",
    "  vector<lower=0>[num_middle_layers] bias_middle_h; \n",
    "  real<lower=0> w_first_h;\n",
    "  vector<lower=0>[num_middle_layers] w_middle_h;\n",
    "  real<lower=0> w_output_h;\n",
    "} \n",
    "transformed parameters {\n",
    "  matrix[N, num_nodes] bias_first_m = rep_matrix(bias_first', N);\n",
    "  matrix[N, num_nodes] bias_middle_m[num_layers - 2];\n",
    "\n",
    "  for (i in 1:(num_layers - 2))\n",
    "    bias_middle_m[i] = rep_matrix(bias_middle[i]', N);\n",
    "}\n",
    "model{\n",
    "  vector[N] mu;\n",
    "  mu = calculate_mu(X, bias_first_m, bias_middle_m, bias_output,\n",
    "    w_first, w_middle, w_output, num_layers);\n",
    "  y ~ normal(mu,sigma);\n",
    "  \n",
    "  //priors\n",
    "  bias_first_h ~ normal(0, 1);\n",
    "  bias_first ~ normal(0, bias_first_h);\n",
    "  for (i in 1:num_middle_layers) {\n",
    "    bias_middle_h[i] ~ normal(0, 1);\n",
    "    bias_middle[i] ~ normal(0, bias_middle_h[i]);\n",
    "  }\n",
    "  bias_output ~ normal(0, 1);\n",
    "\n",
    "  w_first_h ~ normal(0, 1);\n",
    "  to_vector(w_first) ~ normal(0, w_first_h);\n",
    "  for (i in 1:num_middle_layers) {\n",
    "    w_middle_h[i] ~ normal(0, 1);\n",
    "    to_vector(w_middle[i]) ~ normal(0, w_middle_h[i]);\n",
    "  }\n",
    "  w_output_h ~ normal(0, 1);\n",
    "  w_output ~ normal(0, w_output_h);\n",
    "}\n",
    "generated quantities{\n",
    "  vector[Nt] predictions;\n",
    "  {\n",
    "    matrix[Nt, num_nodes] bias_first_mg = rep_matrix(bias_first', Nt);\n",
    "    matrix[Nt, num_nodes] bias_middle_mg[num_layers - 2];\n",
    "    vector[Nt] mu;\n",
    "\n",
    "    for (i in 1:(num_layers - 2))\n",
    "      bias_middle_mg[i] = rep_matrix(bias_middle[i]', Nt);\n",
    "    mu = calculate_mu(Xt, bias_first_mg, bias_middle_mg, bias_output,\n",
    "      w_first, w_middle, w_output, num_layers);\n",
    "    for(i in 1:Nt) \n",
    "      predictions[i] = normal_rng(mu[i],sigma); \n",
    "  }\n",
    "}\n",
    "  \"\"\"\n",
    "  model_mcmc=pystan.StanModel(model_code=stan_code)"
   ],
   "execution_count": 33,
   "outputs": [
    {
     "name": "stderr",
     "output_type": "stream",
     "text": [
      "INFO:pystan:COMPILING THE C++ CODE FOR MODEL anon_model_87d7678c696b5aba92d3d6f5188f2f04 NOW.\n"
     ]
    }
   ]
  },
  {
   "cell_type": "code",
   "metadata": {
    "id": "giRTQpMnDLZT",
    "colab": {
     "base_uri": "https://localhost:8080/"
    },
    "outputId": "069ab522-0037-472a-8a18-a3fc84f10852"
   },
   "source": [
    "if use_mcmc:\n",
    "    my_dat = {'N': num,\n",
    "            'd': 1,\n",
    "            'num_nodes': num_hidden_units,\n",
    "            'num_middle_layers':1,\n",
    "            'X': x,\n",
    "            'y': y,\n",
    "            'sigma': sigma,\n",
    "            'Nt': num_xx,\n",
    "            'Xt': xx,\n",
    "            'y': y}\n",
    "\n",
    "    fit_mcmc=model_mcmc.sampling(data=my_dat,iter=4000,chains=4)"
   ],
   "execution_count": 34,
   "outputs": [
    {
     "name": "stderr",
     "output_type": "stream",
     "text": [
      "Process ForkPoolWorker-5:\n",
      "Process ForkPoolWorker-6:\n",
      "Traceback (most recent call last):\n",
      "  File \"/home/daniel/miniconda3/envs/tf/lib/python3.8/multiprocessing/process.py\", line 315, in _bootstrap\n",
      "    self.run()\n",
      "Traceback (most recent call last):\n",
      "  File \"/home/daniel/miniconda3/envs/tf/lib/python3.8/multiprocessing/process.py\", line 108, in run\n",
      "    self._target(*self._args, **self._kwargs)\n",
      "  File \"/home/daniel/miniconda3/envs/tf/lib/python3.8/multiprocessing/pool.py\", line 114, in worker\n",
      "    task = get()\n",
      "  File \"/home/daniel/miniconda3/envs/tf/lib/python3.8/multiprocessing/process.py\", line 315, in _bootstrap\n",
      "    self.run()\n",
      "  File \"/home/daniel/miniconda3/envs/tf/lib/python3.8/multiprocessing/process.py\", line 108, in run\n",
      "    self._target(*self._args, **self._kwargs)\n",
      "  File \"/home/daniel/miniconda3/envs/tf/lib/python3.8/multiprocessing/queues.py\", line 356, in get\n",
      "    res = self._reader.recv_bytes()\n",
      "  File \"/home/daniel/miniconda3/envs/tf/lib/python3.8/multiprocessing/connection.py\", line 216, in recv_bytes\n",
      "    buf = self._recv_bytes(maxlength)\n",
      "  File \"/home/daniel/miniconda3/envs/tf/lib/python3.8/multiprocessing/connection.py\", line 414, in _recv_bytes\n",
      "    buf = self._recv(4)\n",
      "  File \"/home/daniel/miniconda3/envs/tf/lib/python3.8/multiprocessing/pool.py\", line 114, in worker\n",
      "    task = get()\n",
      "  File \"/home/daniel/miniconda3/envs/tf/lib/python3.8/multiprocessing/connection.py\", line 379, in _recv\n",
      "    chunk = read(handle, remaining)\n",
      "KeyboardInterrupt\n",
      "  File \"/home/daniel/miniconda3/envs/tf/lib/python3.8/multiprocessing/queues.py\", line 355, in get\n",
      "    with self._rlock:\n",
      "  File \"/home/daniel/miniconda3/envs/tf/lib/python3.8/multiprocessing/synchronize.py\", line 95, in __enter__\n",
      "    return self._semlock.__enter__()\n",
      "KeyboardInterrupt\n",
      "Process ForkPoolWorker-8:\n",
      "Process ForkPoolWorker-7:\n",
      "Process ForkPoolWorker-3:\n",
      "Traceback (most recent call last):\n",
      "Traceback (most recent call last):\n",
      "Process ForkPoolWorker-1:\n",
      "Process ForkPoolWorker-4:\n",
      "Traceback (most recent call last):\n",
      "  File \"/home/daniel/miniconda3/envs/tf/lib/python3.8/multiprocessing/process.py\", line 315, in _bootstrap\n",
      "    self.run()\n",
      "Traceback (most recent call last):\n",
      "  File \"/home/daniel/miniconda3/envs/tf/lib/python3.8/multiprocessing/process.py\", line 315, in _bootstrap\n",
      "    self.run()\n",
      "  File \"/home/daniel/miniconda3/envs/tf/lib/python3.8/multiprocessing/process.py\", line 315, in _bootstrap\n",
      "    self.run()\n",
      "  File \"/home/daniel/miniconda3/envs/tf/lib/python3.8/multiprocessing/process.py\", line 315, in _bootstrap\n",
      "    self.run()\n",
      "  File \"/home/daniel/miniconda3/envs/tf/lib/python3.8/multiprocessing/process.py\", line 108, in run\n",
      "    self._target(*self._args, **self._kwargs)\n",
      "  File \"/home/daniel/miniconda3/envs/tf/lib/python3.8/multiprocessing/process.py\", line 108, in run\n",
      "    self._target(*self._args, **self._kwargs)\n",
      "  File \"/home/daniel/miniconda3/envs/tf/lib/python3.8/multiprocessing/pool.py\", line 114, in worker\n",
      "    task = get()\n",
      "  File \"/home/daniel/miniconda3/envs/tf/lib/python3.8/multiprocessing/pool.py\", line 114, in worker\n",
      "    task = get()\n",
      "  File \"/home/daniel/miniconda3/envs/tf/lib/python3.8/multiprocessing/queues.py\", line 355, in get\n",
      "    with self._rlock:\n",
      "  File \"/home/daniel/miniconda3/envs/tf/lib/python3.8/multiprocessing/queues.py\", line 356, in get\n",
      "    res = self._reader.recv_bytes()\n",
      "Traceback (most recent call last):\n",
      "  File \"/home/daniel/miniconda3/envs/tf/lib/python3.8/multiprocessing/connection.py\", line 216, in recv_bytes\n",
      "    buf = self._recv_bytes(maxlength)\n",
      "  File \"/home/daniel/miniconda3/envs/tf/lib/python3.8/multiprocessing/synchronize.py\", line 95, in __enter__\n",
      "    return self._semlock.__enter__()\n",
      "  File \"/home/daniel/miniconda3/envs/tf/lib/python3.8/multiprocessing/process.py\", line 315, in _bootstrap\n",
      "    self.run()\n",
      "  File \"/home/daniel/miniconda3/envs/tf/lib/python3.8/multiprocessing/connection.py\", line 414, in _recv_bytes\n",
      "    buf = self._recv(4)\n",
      "  File \"/home/daniel/miniconda3/envs/tf/lib/python3.8/multiprocessing/process.py\", line 108, in run\n",
      "    self._target(*self._args, **self._kwargs)\n",
      "  File \"/home/daniel/miniconda3/envs/tf/lib/python3.8/multiprocessing/connection.py\", line 379, in _recv\n",
      "    chunk = read(handle, remaining)\n",
      "  File \"/home/daniel/miniconda3/envs/tf/lib/python3.8/multiprocessing/process.py\", line 108, in run\n",
      "    self._target(*self._args, **self._kwargs)\n",
      "  File \"/home/daniel/miniconda3/envs/tf/lib/python3.8/multiprocessing/process.py\", line 108, in run\n",
      "    self._target(*self._args, **self._kwargs)\n",
      "  File \"/home/daniel/miniconda3/envs/tf/lib/python3.8/multiprocessing/pool.py\", line 114, in worker\n",
      "    task = get()\n",
      "KeyboardInterrupt\n",
      "  File \"/home/daniel/miniconda3/envs/tf/lib/python3.8/multiprocessing/pool.py\", line 114, in worker\n",
      "    task = get()\n",
      "  File \"/home/daniel/miniconda3/envs/tf/lib/python3.8/multiprocessing/queues.py\", line 355, in get\n",
      "    with self._rlock:\n",
      "  File \"/home/daniel/miniconda3/envs/tf/lib/python3.8/multiprocessing/synchronize.py\", line 95, in __enter__\n",
      "    return self._semlock.__enter__()\n",
      "KeyboardInterrupt\n",
      "KeyboardInterrupt\n",
      "  File \"/home/daniel/miniconda3/envs/tf/lib/python3.8/multiprocessing/pool.py\", line 114, in worker\n",
      "    task = get()\n",
      "  File \"/home/daniel/miniconda3/envs/tf/lib/python3.8/multiprocessing/queues.py\", line 355, in get\n",
      "    with self._rlock:\n",
      "  File \"/home/daniel/miniconda3/envs/tf/lib/python3.8/multiprocessing/synchronize.py\", line 95, in __enter__\n",
      "    return self._semlock.__enter__()\n",
      "  File \"/home/daniel/miniconda3/envs/tf/lib/python3.8/multiprocessing/queues.py\", line 355, in get\n",
      "    with self._rlock:\n",
      "KeyboardInterrupt\n",
      "  File \"/home/daniel/miniconda3/envs/tf/lib/python3.8/multiprocessing/synchronize.py\", line 95, in __enter__\n",
      "    return self._semlock.__enter__()\n",
      "KeyboardInterrupt\n"
     ]
    },
    {
     "ename": "KeyboardInterrupt",
     "evalue": "",
     "output_type": "error",
     "traceback": [
      "\u001B[0;31m---------------------------------------------------------------------------\u001B[0m",
      "\u001B[0;31mKeyboardInterrupt\u001B[0m                         Traceback (most recent call last)",
      "\u001B[0;32m~/miniconda3/envs/tf/lib/python3.8/site-packages/pystan/model.py\u001B[0m in \u001B[0;36m_map_parallel\u001B[0;34m(function, args, n_jobs)\u001B[0m\n\u001B[1;32m     84\u001B[0m             \u001B[0mpool\u001B[0m \u001B[0;34m=\u001B[0m \u001B[0mmultiprocessing\u001B[0m\u001B[0;34m.\u001B[0m\u001B[0mPool\u001B[0m\u001B[0;34m(\u001B[0m\u001B[0mprocesses\u001B[0m\u001B[0;34m=\u001B[0m\u001B[0mn_jobs\u001B[0m\u001B[0;34m)\u001B[0m\u001B[0;34m\u001B[0m\u001B[0;34m\u001B[0m\u001B[0m\n\u001B[0;32m---> 85\u001B[0;31m             \u001B[0mmap_result\u001B[0m \u001B[0;34m=\u001B[0m \u001B[0mpool\u001B[0m\u001B[0;34m.\u001B[0m\u001B[0mmap\u001B[0m\u001B[0;34m(\u001B[0m\u001B[0mfunction\u001B[0m\u001B[0;34m,\u001B[0m \u001B[0margs\u001B[0m\u001B[0;34m)\u001B[0m\u001B[0;34m\u001B[0m\u001B[0;34m\u001B[0m\u001B[0m\n\u001B[0m\u001B[1;32m     86\u001B[0m         \u001B[0;32mfinally\u001B[0m\u001B[0;34m:\u001B[0m\u001B[0;34m\u001B[0m\u001B[0;34m\u001B[0m\u001B[0m\n",
      "\u001B[0;32m~/miniconda3/envs/tf/lib/python3.8/multiprocessing/pool.py\u001B[0m in \u001B[0;36mmap\u001B[0;34m(self, func, iterable, chunksize)\u001B[0m\n\u001B[1;32m    363\u001B[0m         '''\n\u001B[0;32m--> 364\u001B[0;31m         \u001B[0;32mreturn\u001B[0m \u001B[0mself\u001B[0m\u001B[0;34m.\u001B[0m\u001B[0m_map_async\u001B[0m\u001B[0;34m(\u001B[0m\u001B[0mfunc\u001B[0m\u001B[0;34m,\u001B[0m \u001B[0miterable\u001B[0m\u001B[0;34m,\u001B[0m \u001B[0mmapstar\u001B[0m\u001B[0;34m,\u001B[0m \u001B[0mchunksize\u001B[0m\u001B[0;34m)\u001B[0m\u001B[0;34m.\u001B[0m\u001B[0mget\u001B[0m\u001B[0;34m(\u001B[0m\u001B[0;34m)\u001B[0m\u001B[0;34m\u001B[0m\u001B[0;34m\u001B[0m\u001B[0m\n\u001B[0m\u001B[1;32m    365\u001B[0m \u001B[0;34m\u001B[0m\u001B[0m\n",
      "\u001B[0;32m~/miniconda3/envs/tf/lib/python3.8/multiprocessing/pool.py\u001B[0m in \u001B[0;36mget\u001B[0;34m(self, timeout)\u001B[0m\n\u001B[1;32m    764\u001B[0m     \u001B[0;32mdef\u001B[0m \u001B[0mget\u001B[0m\u001B[0;34m(\u001B[0m\u001B[0mself\u001B[0m\u001B[0;34m,\u001B[0m \u001B[0mtimeout\u001B[0m\u001B[0;34m=\u001B[0m\u001B[0;32mNone\u001B[0m\u001B[0;34m)\u001B[0m\u001B[0;34m:\u001B[0m\u001B[0;34m\u001B[0m\u001B[0;34m\u001B[0m\u001B[0m\n\u001B[0;32m--> 765\u001B[0;31m         \u001B[0mself\u001B[0m\u001B[0;34m.\u001B[0m\u001B[0mwait\u001B[0m\u001B[0;34m(\u001B[0m\u001B[0mtimeout\u001B[0m\u001B[0;34m)\u001B[0m\u001B[0;34m\u001B[0m\u001B[0;34m\u001B[0m\u001B[0m\n\u001B[0m\u001B[1;32m    766\u001B[0m         \u001B[0;32mif\u001B[0m \u001B[0;32mnot\u001B[0m \u001B[0mself\u001B[0m\u001B[0;34m.\u001B[0m\u001B[0mready\u001B[0m\u001B[0;34m(\u001B[0m\u001B[0;34m)\u001B[0m\u001B[0;34m:\u001B[0m\u001B[0;34m\u001B[0m\u001B[0;34m\u001B[0m\u001B[0m\n",
      "\u001B[0;32m~/miniconda3/envs/tf/lib/python3.8/multiprocessing/pool.py\u001B[0m in \u001B[0;36mwait\u001B[0;34m(self, timeout)\u001B[0m\n\u001B[1;32m    761\u001B[0m     \u001B[0;32mdef\u001B[0m \u001B[0mwait\u001B[0m\u001B[0;34m(\u001B[0m\u001B[0mself\u001B[0m\u001B[0;34m,\u001B[0m \u001B[0mtimeout\u001B[0m\u001B[0;34m=\u001B[0m\u001B[0;32mNone\u001B[0m\u001B[0;34m)\u001B[0m\u001B[0;34m:\u001B[0m\u001B[0;34m\u001B[0m\u001B[0;34m\u001B[0m\u001B[0m\n\u001B[0;32m--> 762\u001B[0;31m         \u001B[0mself\u001B[0m\u001B[0;34m.\u001B[0m\u001B[0m_event\u001B[0m\u001B[0;34m.\u001B[0m\u001B[0mwait\u001B[0m\u001B[0;34m(\u001B[0m\u001B[0mtimeout\u001B[0m\u001B[0;34m)\u001B[0m\u001B[0;34m\u001B[0m\u001B[0;34m\u001B[0m\u001B[0m\n\u001B[0m\u001B[1;32m    763\u001B[0m \u001B[0;34m\u001B[0m\u001B[0m\n",
      "\u001B[0;32m~/miniconda3/envs/tf/lib/python3.8/threading.py\u001B[0m in \u001B[0;36mwait\u001B[0;34m(self, timeout)\u001B[0m\n\u001B[1;32m    557\u001B[0m             \u001B[0;32mif\u001B[0m \u001B[0;32mnot\u001B[0m \u001B[0msignaled\u001B[0m\u001B[0;34m:\u001B[0m\u001B[0;34m\u001B[0m\u001B[0;34m\u001B[0m\u001B[0m\n\u001B[0;32m--> 558\u001B[0;31m                 \u001B[0msignaled\u001B[0m \u001B[0;34m=\u001B[0m \u001B[0mself\u001B[0m\u001B[0;34m.\u001B[0m\u001B[0m_cond\u001B[0m\u001B[0;34m.\u001B[0m\u001B[0mwait\u001B[0m\u001B[0;34m(\u001B[0m\u001B[0mtimeout\u001B[0m\u001B[0;34m)\u001B[0m\u001B[0;34m\u001B[0m\u001B[0;34m\u001B[0m\u001B[0m\n\u001B[0m\u001B[1;32m    559\u001B[0m             \u001B[0;32mreturn\u001B[0m \u001B[0msignaled\u001B[0m\u001B[0;34m\u001B[0m\u001B[0;34m\u001B[0m\u001B[0m\n",
      "\u001B[0;32m~/miniconda3/envs/tf/lib/python3.8/threading.py\u001B[0m in \u001B[0;36mwait\u001B[0;34m(self, timeout)\u001B[0m\n\u001B[1;32m    301\u001B[0m             \u001B[0;32mif\u001B[0m \u001B[0mtimeout\u001B[0m \u001B[0;32mis\u001B[0m \u001B[0;32mNone\u001B[0m\u001B[0;34m:\u001B[0m\u001B[0;34m\u001B[0m\u001B[0;34m\u001B[0m\u001B[0m\n\u001B[0;32m--> 302\u001B[0;31m                 \u001B[0mwaiter\u001B[0m\u001B[0;34m.\u001B[0m\u001B[0macquire\u001B[0m\u001B[0;34m(\u001B[0m\u001B[0;34m)\u001B[0m\u001B[0;34m\u001B[0m\u001B[0;34m\u001B[0m\u001B[0m\n\u001B[0m\u001B[1;32m    303\u001B[0m                 \u001B[0mgotit\u001B[0m \u001B[0;34m=\u001B[0m \u001B[0;32mTrue\u001B[0m\u001B[0;34m\u001B[0m\u001B[0;34m\u001B[0m\u001B[0m\n",
      "\u001B[0;31mKeyboardInterrupt\u001B[0m: ",
      "\nDuring handling of the above exception, another exception occurred:\n",
      "\u001B[0;31mKeyboardInterrupt\u001B[0m                         Traceback (most recent call last)",
      "\u001B[0;32m<ipython-input-34-f119019265ff>\u001B[0m in \u001B[0;36m<module>\u001B[0;34m\u001B[0m\n\u001B[1;32m     11\u001B[0m             'y': y}\n\u001B[1;32m     12\u001B[0m \u001B[0;34m\u001B[0m\u001B[0m\n\u001B[0;32m---> 13\u001B[0;31m     \u001B[0mfit_mcmc\u001B[0m\u001B[0;34m=\u001B[0m\u001B[0mmodel_mcmc\u001B[0m\u001B[0;34m.\u001B[0m\u001B[0msampling\u001B[0m\u001B[0;34m(\u001B[0m\u001B[0mdata\u001B[0m\u001B[0;34m=\u001B[0m\u001B[0mmy_dat\u001B[0m\u001B[0;34m,\u001B[0m\u001B[0miter\u001B[0m\u001B[0;34m=\u001B[0m\u001B[0;36m4000\u001B[0m\u001B[0;34m,\u001B[0m\u001B[0mchains\u001B[0m\u001B[0;34m=\u001B[0m\u001B[0;36m4\u001B[0m\u001B[0;34m)\u001B[0m\u001B[0;34m\u001B[0m\u001B[0;34m\u001B[0m\u001B[0m\n\u001B[0m\u001B[1;32m     14\u001B[0m \u001B[0;34m\u001B[0m\u001B[0m\n",
      "\u001B[0;32m~/miniconda3/envs/tf/lib/python3.8/site-packages/pystan/model.py\u001B[0m in \u001B[0;36msampling\u001B[0;34m(self, data, pars, chains, iter, warmup, thin, seed, init, sample_file, diagnostic_file, verbose, algorithm, control, n_jobs, **kwargs)\u001B[0m\n\u001B[1;32m    811\u001B[0m         \u001B[0mcall_sampler_args\u001B[0m \u001B[0;34m=\u001B[0m \u001B[0mizip\u001B[0m\u001B[0;34m(\u001B[0m\u001B[0mitertools\u001B[0m\u001B[0;34m.\u001B[0m\u001B[0mrepeat\u001B[0m\u001B[0;34m(\u001B[0m\u001B[0mdata\u001B[0m\u001B[0;34m)\u001B[0m\u001B[0;34m,\u001B[0m \u001B[0margs_list\u001B[0m\u001B[0;34m,\u001B[0m \u001B[0mitertools\u001B[0m\u001B[0;34m.\u001B[0m\u001B[0mrepeat\u001B[0m\u001B[0;34m(\u001B[0m\u001B[0mpars\u001B[0m\u001B[0;34m)\u001B[0m\u001B[0;34m)\u001B[0m\u001B[0;34m\u001B[0m\u001B[0;34m\u001B[0m\u001B[0m\n\u001B[1;32m    812\u001B[0m         \u001B[0mcall_sampler_star\u001B[0m \u001B[0;34m=\u001B[0m \u001B[0mself\u001B[0m\u001B[0;34m.\u001B[0m\u001B[0mmodule\u001B[0m\u001B[0;34m.\u001B[0m\u001B[0m_call_sampler_star\u001B[0m\u001B[0;34m\u001B[0m\u001B[0;34m\u001B[0m\u001B[0m\n\u001B[0;32m--> 813\u001B[0;31m         \u001B[0mret_and_samples\u001B[0m \u001B[0;34m=\u001B[0m \u001B[0m_map_parallel\u001B[0m\u001B[0;34m(\u001B[0m\u001B[0mcall_sampler_star\u001B[0m\u001B[0;34m,\u001B[0m \u001B[0mcall_sampler_args\u001B[0m\u001B[0;34m,\u001B[0m \u001B[0mn_jobs\u001B[0m\u001B[0;34m)\u001B[0m\u001B[0;34m\u001B[0m\u001B[0;34m\u001B[0m\u001B[0m\n\u001B[0m\u001B[1;32m    814\u001B[0m         \u001B[0msamples\u001B[0m \u001B[0;34m=\u001B[0m \u001B[0;34m[\u001B[0m\u001B[0msmpl\u001B[0m \u001B[0;32mfor\u001B[0m \u001B[0m_\u001B[0m\u001B[0;34m,\u001B[0m \u001B[0msmpl\u001B[0m \u001B[0;32min\u001B[0m \u001B[0mret_and_samples\u001B[0m\u001B[0;34m]\u001B[0m\u001B[0;34m\u001B[0m\u001B[0;34m\u001B[0m\u001B[0m\n\u001B[1;32m    815\u001B[0m \u001B[0;34m\u001B[0m\u001B[0m\n",
      "\u001B[0;32m~/miniconda3/envs/tf/lib/python3.8/site-packages/pystan/model.py\u001B[0m in \u001B[0;36m_map_parallel\u001B[0;34m(function, args, n_jobs)\u001B[0m\n\u001B[1;32m     86\u001B[0m         \u001B[0;32mfinally\u001B[0m\u001B[0;34m:\u001B[0m\u001B[0;34m\u001B[0m\u001B[0;34m\u001B[0m\u001B[0m\n\u001B[1;32m     87\u001B[0m             \u001B[0mpool\u001B[0m\u001B[0;34m.\u001B[0m\u001B[0mclose\u001B[0m\u001B[0;34m(\u001B[0m\u001B[0;34m)\u001B[0m\u001B[0;34m\u001B[0m\u001B[0;34m\u001B[0m\u001B[0m\n\u001B[0;32m---> 88\u001B[0;31m             \u001B[0mpool\u001B[0m\u001B[0;34m.\u001B[0m\u001B[0mjoin\u001B[0m\u001B[0;34m(\u001B[0m\u001B[0;34m)\u001B[0m\u001B[0;34m\u001B[0m\u001B[0;34m\u001B[0m\u001B[0m\n\u001B[0m\u001B[1;32m     89\u001B[0m     \u001B[0;32melse\u001B[0m\u001B[0;34m:\u001B[0m\u001B[0;34m\u001B[0m\u001B[0;34m\u001B[0m\u001B[0m\n\u001B[1;32m     90\u001B[0m         \u001B[0mmap_result\u001B[0m \u001B[0;34m=\u001B[0m \u001B[0mlist\u001B[0m\u001B[0;34m(\u001B[0m\u001B[0mmap\u001B[0m\u001B[0;34m(\u001B[0m\u001B[0mfunction\u001B[0m\u001B[0;34m,\u001B[0m \u001B[0margs\u001B[0m\u001B[0;34m)\u001B[0m\u001B[0;34m)\u001B[0m\u001B[0;34m\u001B[0m\u001B[0;34m\u001B[0m\u001B[0m\n",
      "\u001B[0;32m~/miniconda3/envs/tf/lib/python3.8/multiprocessing/pool.py\u001B[0m in \u001B[0;36mjoin\u001B[0;34m(self)\u001B[0m\n\u001B[1;32m    660\u001B[0m         \u001B[0;32melif\u001B[0m \u001B[0mself\u001B[0m\u001B[0;34m.\u001B[0m\u001B[0m_state\u001B[0m \u001B[0;32mnot\u001B[0m \u001B[0;32min\u001B[0m \u001B[0;34m(\u001B[0m\u001B[0mCLOSE\u001B[0m\u001B[0;34m,\u001B[0m \u001B[0mTERMINATE\u001B[0m\u001B[0;34m)\u001B[0m\u001B[0;34m:\u001B[0m\u001B[0;34m\u001B[0m\u001B[0;34m\u001B[0m\u001B[0m\n\u001B[1;32m    661\u001B[0m             \u001B[0;32mraise\u001B[0m \u001B[0mValueError\u001B[0m\u001B[0;34m(\u001B[0m\u001B[0;34m\"In unknown state\"\u001B[0m\u001B[0;34m)\u001B[0m\u001B[0;34m\u001B[0m\u001B[0;34m\u001B[0m\u001B[0m\n\u001B[0;32m--> 662\u001B[0;31m         \u001B[0mself\u001B[0m\u001B[0;34m.\u001B[0m\u001B[0m_worker_handler\u001B[0m\u001B[0;34m.\u001B[0m\u001B[0mjoin\u001B[0m\u001B[0;34m(\u001B[0m\u001B[0;34m)\u001B[0m\u001B[0;34m\u001B[0m\u001B[0;34m\u001B[0m\u001B[0m\n\u001B[0m\u001B[1;32m    663\u001B[0m         \u001B[0mself\u001B[0m\u001B[0;34m.\u001B[0m\u001B[0m_task_handler\u001B[0m\u001B[0;34m.\u001B[0m\u001B[0mjoin\u001B[0m\u001B[0;34m(\u001B[0m\u001B[0;34m)\u001B[0m\u001B[0;34m\u001B[0m\u001B[0;34m\u001B[0m\u001B[0m\n\u001B[1;32m    664\u001B[0m         \u001B[0mself\u001B[0m\u001B[0;34m.\u001B[0m\u001B[0m_result_handler\u001B[0m\u001B[0;34m.\u001B[0m\u001B[0mjoin\u001B[0m\u001B[0;34m(\u001B[0m\u001B[0;34m)\u001B[0m\u001B[0;34m\u001B[0m\u001B[0;34m\u001B[0m\u001B[0m\n",
      "\u001B[0;32m~/miniconda3/envs/tf/lib/python3.8/threading.py\u001B[0m in \u001B[0;36mjoin\u001B[0;34m(self, timeout)\u001B[0m\n\u001B[1;32m   1009\u001B[0m \u001B[0;34m\u001B[0m\u001B[0m\n\u001B[1;32m   1010\u001B[0m         \u001B[0;32mif\u001B[0m \u001B[0mtimeout\u001B[0m \u001B[0;32mis\u001B[0m \u001B[0;32mNone\u001B[0m\u001B[0;34m:\u001B[0m\u001B[0;34m\u001B[0m\u001B[0;34m\u001B[0m\u001B[0m\n\u001B[0;32m-> 1011\u001B[0;31m             \u001B[0mself\u001B[0m\u001B[0;34m.\u001B[0m\u001B[0m_wait_for_tstate_lock\u001B[0m\u001B[0;34m(\u001B[0m\u001B[0;34m)\u001B[0m\u001B[0;34m\u001B[0m\u001B[0;34m\u001B[0m\u001B[0m\n\u001B[0m\u001B[1;32m   1012\u001B[0m         \u001B[0;32melse\u001B[0m\u001B[0;34m:\u001B[0m\u001B[0;34m\u001B[0m\u001B[0;34m\u001B[0m\u001B[0m\n\u001B[1;32m   1013\u001B[0m             \u001B[0;31m# the behavior of a negative timeout isn't documented, but\u001B[0m\u001B[0;34m\u001B[0m\u001B[0;34m\u001B[0m\u001B[0;34m\u001B[0m\u001B[0m\n",
      "\u001B[0;32m~/miniconda3/envs/tf/lib/python3.8/threading.py\u001B[0m in \u001B[0;36m_wait_for_tstate_lock\u001B[0;34m(self, block, timeout)\u001B[0m\n\u001B[1;32m   1025\u001B[0m         \u001B[0;32mif\u001B[0m \u001B[0mlock\u001B[0m \u001B[0;32mis\u001B[0m \u001B[0;32mNone\u001B[0m\u001B[0;34m:\u001B[0m  \u001B[0;31m# already determined that the C code is done\u001B[0m\u001B[0;34m\u001B[0m\u001B[0;34m\u001B[0m\u001B[0m\n\u001B[1;32m   1026\u001B[0m             \u001B[0;32massert\u001B[0m \u001B[0mself\u001B[0m\u001B[0;34m.\u001B[0m\u001B[0m_is_stopped\u001B[0m\u001B[0;34m\u001B[0m\u001B[0;34m\u001B[0m\u001B[0m\n\u001B[0;32m-> 1027\u001B[0;31m         \u001B[0;32melif\u001B[0m \u001B[0mlock\u001B[0m\u001B[0;34m.\u001B[0m\u001B[0macquire\u001B[0m\u001B[0;34m(\u001B[0m\u001B[0mblock\u001B[0m\u001B[0;34m,\u001B[0m \u001B[0mtimeout\u001B[0m\u001B[0;34m)\u001B[0m\u001B[0;34m:\u001B[0m\u001B[0;34m\u001B[0m\u001B[0;34m\u001B[0m\u001B[0m\n\u001B[0m\u001B[1;32m   1028\u001B[0m             \u001B[0mlock\u001B[0m\u001B[0;34m.\u001B[0m\u001B[0mrelease\u001B[0m\u001B[0;34m(\u001B[0m\u001B[0;34m)\u001B[0m\u001B[0;34m\u001B[0m\u001B[0;34m\u001B[0m\u001B[0m\n\u001B[1;32m   1029\u001B[0m             \u001B[0mself\u001B[0m\u001B[0;34m.\u001B[0m\u001B[0m_stop\u001B[0m\u001B[0;34m(\u001B[0m\u001B[0;34m)\u001B[0m\u001B[0;34m\u001B[0m\u001B[0;34m\u001B[0m\u001B[0m\n",
      "\u001B[0;31mKeyboardInterrupt\u001B[0m: "
     ]
    }
   ]
  },
  {
   "cell_type": "code",
   "metadata": {
    "id": "vJ7vm9wLDLZT",
    "colab": {
     "base_uri": "https://localhost:8080/"
    },
    "outputId": "43a21c36-cd81-46b2-b59a-3c046f789d2c"
   },
   "source": [
    "if use_mcmc:    \n",
    "    samples_predictions=fit_mcmc.extract()['predictions']; \n",
    "    print(samples_predictions.shape)\n",
    "    samples_predictions_mean=np.mean(samples_predictions,axis=0)\n",
    "    samples_predictions_2p5=np.quantile(samples_predictions,0.025,axis=0)\n",
    "    samples_predictions_97p5=np.quantile(samples_predictions,0.975,axis=0)\n",
    "    samples_predictions_50p0=np.quantile(samples_predictions,0.5,axis=0)"
   ],
   "execution_count": null,
   "outputs": []
  },
  {
   "cell_type": "code",
   "metadata": {
    "id": "-_8B18FTDLZT",
    "colab": {
     "base_uri": "https://localhost:8080/",
     "height": 295
    },
    "outputId": "14469683-0598-4698-eed3-3736fd05d195"
   },
   "source": [
    "if use_mcmc:\n",
    "    plt.plot(xx,samples_predictions_mean,label=\"MCMC - mean\")\n",
    "    plt.plot(xx,samples_predictions_97p5,color='g',label=\"MCMC - 97.5 quantile\")\n",
    "    #plt.plot(xx,samples_predictions_50p0,color='g',label=\"mcmc_50p0_quantile\")\n",
    "    plt.plot(xx,samples_predictions_2p5,color='g',label=\"MCMC - 2.5 quantile\")\n",
    "    plt.scatter(x,y, marker='.', color='r', label=\"Data\")\n",
    "    plt.legend()\n",
    "    plt.grid()\n",
    "    plt.ylabel(r\"$y$\")\n",
    "    plt.xlabel(r\"$x$\")\n",
    "    plt.title(r'PPD');"
   ],
   "execution_count": null,
   "outputs": []
  },
  {
   "cell_type": "code",
   "metadata": {
    "id": "SkciDqc5DLZT",
    "colab": {
     "base_uri": "https://localhost:8080/",
     "height": 1000
    },
    "outputId": "d62f88e7-4012-4312-c2a2-3d4fe74b613a"
   },
   "source": [
    "if use_mcmc:\n",
    "    for i in range(num_hidden_units):\n",
    "        plt.figure()\n",
    "        plot_trace(fit_mcmc.extract()['w_first'][:,0,0],r\"$w^{0}_{\"+str(i)+r\"0}$\")\n",
    "\n",
    "    for i in range(num_hidden_units):\n",
    "        plt.figure()\n",
    "        plot_trace(fit_mcmc.extract()['w_output'][:,i],r\"$w^{1}_{0\"+str(i)+r\"}$\")\n",
    "\n",
    "    for i in range(num_hidden_units):\n",
    "        plt.figure()\n",
    "        plot_trace(fit_mcmc.extract()['bias_first'][:,i],r\"$bias^{0}_{\"+str(i)+r\"}$\")\n",
    "\n",
    "    plt.figure()\n",
    "    plot_trace(fit_mcmc.extract()['bias_output'],r\"$bias^{1}_{0}$\")"
   ],
   "execution_count": null,
   "outputs": []
  },
  {
   "cell_type": "markdown",
   "metadata": {
    "id": "BDWSXkboDLZU"
   },
   "source": [
    "## VIGAUSS\n",
    "\n",
    "MFVI with a Gaussian as variational distribution"
   ]
  },
  {
   "cell_type": "code",
   "metadata": {
    "id": "QvslVFcNDLZU"
   },
   "source": [
    "x_in = Input(shape=(1,),name=\"VIGAUSS_il\")\n",
    "x_arch = DenseVIGAUSS(units=num_hidden_units, activation='relu', kl_weight=kl_weight, name=\"VIGAUSS_hl_1\", **prior_params )(x_in)\n",
    "x_arch = DenseVIGAUSS(units=1, kl_weight=kl_weight, name=\"VIGAUSS_ol\", **prior_params)(x_arch)\n",
    "\n",
    "model_VIGAUSS = Model(x_in, x_arch,name=\"model_VIGAUSS\")"
   ],
   "execution_count": 62,
   "outputs": []
  },
  {
   "cell_type": "code",
   "metadata": {
    "id": "pjOvYdDwDLZU",
    "colab": {
     "base_uri": "https://localhost:8080/"
    },
    "outputId": "d0601bc8-934c-45d2-f653-3201ae957cf5"
   },
   "source": [
    "print(model_VIGAUSS.summary())"
   ],
   "execution_count": 63,
   "outputs": [
    {
     "name": "stdout",
     "output_type": "stream",
     "text": [
      "Model: \"model_VIGAUSS\"\n",
      "_________________________________________________________________\n",
      "Layer (type)                 Output Shape              Param #   \n",
      "=================================================================\n",
      "VIGAUSS_il (InputLayer)      [(None, 1)]               0         \n",
      "_________________________________________________________________\n",
      "VIGAUSS_hl_1 (DenseVIGAUSS)  (None, 3)                 12        \n",
      "_________________________________________________________________\n",
      "VIGAUSS_ol (DenseVIGAUSS)    (None, 1)                 8         \n",
      "=================================================================\n",
      "Total params: 20\n",
      "Trainable params: 20\n",
      "Non-trainable params: 0\n",
      "_________________________________________________________________\n",
      "None\n"
     ]
    }
   ]
  },
  {
   "cell_type": "code",
   "metadata": {
    "id": "wDc6q3LdDLZU",
    "colab": {
     "base_uri": "https://localhost:8080/"
    },
    "outputId": "b3d124de-2867-4c25-8cb5-b181038af378"
   },
   "source": [
    "model_VIGAUSS.compile(loss=neg_log_likelihood, optimizer=optimizers.Adam(lr=lr,clipnorm=cn), metrics=[neg_log_likelihood])\n",
    "#model_VIGAUSS.compile(loss=neg_log_likelihood, optimizer=optimizers.Adam(lr=lr), metrics=[neg_log_likelihood])"
   ],
   "execution_count": 64,
   "outputs": []
  },
  {
   "cell_type": "code",
   "metadata": {
    "tags": [],
    "id": "4kOfwG0_DLZU"
   },
   "source": [
    "callbacks_VIGAUSS = [\n",
    "    #callbacks.LearningRateScheduler(lr_scheduler, verbose=0)\n",
    "]\n",
    "\n",
    "# Fit the model to the data\n",
    "hist=model_VIGAUSS.fit(x, y, callbacks=callbacks_VIGAUSS, batch_size=batch_size, epochs=epochs, verbose=0);"
   ],
   "execution_count": 65,
   "outputs": []
  },
  {
   "cell_type": "markdown",
   "metadata": {
    "id": "A5tNUxnRDLZV"
   },
   "source": [
    "## VIMLTS\n",
    "\n",
    "MFVI with a flexible variational distribution"
   ]
  },
  {
   "cell_type": "markdown",
   "metadata": {
    "id": "3V4gwhWAgdst"
   },
   "source": [
    "### functions"
   ]
  },
  {
   "cell_type": "code",
   "metadata": {
    "id": "C-YtGUouDLZV"
   },
   "source": [
    "def get_lambdas_for_w(layer_weights, from_neuron_layer_bevore, to_neuron):\n",
    "    \"\"\"\n",
    "        Gets the variational parameter for a specific weight\n",
    "    \"\"\"  \n",
    "    try:\n",
    "        num_param=14\n",
    "        lambdas=[]\n",
    "        \n",
    "        for j in range(int(num_param)):\n",
    "            lambdas.append(layer_weights[j][from_neuron_layer_bevore][to_neuron])\n",
    "        return lambdas\n",
    "    except:\n",
    "        print(\"Constellation not existing\")\n",
    "\n",
    "\n",
    "def get_lambdas_for_bias(layer_weights, neuron):\n",
    "    \"\"\"\n",
    "        Gets the variational parameter for a specific bias\n",
    "    \"\"\"  \n",
    "    try:\n",
    "        num_param=14\n",
    "        lambdas=[]\n",
    " \n",
    "        for j in range(num_param,num_param*2):\n",
    "            lambdas.append(layer_weights[j][neuron])\n",
    "        return lambdas\n",
    "    except:\n",
    "        print(\"Constellation not existing\")\n",
    "\n",
    "@tf.function\n",
    "def neg_log_likelihood_s(y_obs, y_pred, sigma=noise):\n",
    "    \"\"\"\n",
    "    Args:\n",
    "        y_obs: true labels. Expected shape (#batch, 1) or (#batch)\n",
    "        y_pred: model prediction. Expected shape (#samples, #batch, 1) or (#samples, #batch)\n",
    "\n",
    "    Returns: sum\n",
    "    \"\"\"\n",
    "    if len(y_pred.shape) == 2:  # Bug tf?! If we have a single output it squeezes y_pred. I did not want this behaviour.\n",
    "        y_pred = y_pred[...,None]\n",
    "    tf.debugging.check_numerics(y_pred, \"Prediction for nll computation contains NaNs or Infs\")\n",
    "    error_str = f\"Expected one of the above defined shapes. Got shapes: y_obs: {y_obs.shape}; y_pred: {y_pred.shape}\"\n",
    "    assert y_pred.shape[-1] == y_obs.shape[-1] or ((len(y_pred.shape) == 3) and y_pred.shape[-1] == 1), error_str\n",
    "\n",
    "    # dist = tfp.distributions.Normal(loc=y_pred, scale=scale)\n",
    "    dist = tfd.Normal(loc=y_pred, scale=sigma)\n",
    "    nll_per_sample = -dist.log_prob(y_obs)\n",
    "    nlls = tf.reduce_mean(nll_per_sample, axis=0)\n",
    "    tf.debugging.check_numerics(nlls, \"NLL contains NaNs or Infs\")\n",
    "    return tf.reduce_sum(nlls)"
   ],
   "execution_count": 66,
   "outputs": []
  },
  {
   "cell_type": "code",
   "execution_count": 67,
   "outputs": [
    {
     "name": "stdout",
     "output_type": "stream",
     "text": [
      "Model: \"model_VIMLTS\"\n",
      "_________________________________________________________________\n",
      "Layer (type)                 Output Shape              Param #   \n",
      "=================================================================\n",
      "VIMLTS_il (InputLayer)       [(None, 1)]               0         \n",
      "_________________________________________________________________\n",
      "vimlts_linear_65 (VimltsLine (6, None, 3)              18        \n",
      "_________________________________________________________________\n",
      "vimlts_linear_66 (VimltsLine (6, None, 1)              18        \n",
      "=================================================================\n",
      "Total params: 36\n",
      "Trainable params: 36\n",
      "Non-trainable params: 0\n",
      "_________________________________________________________________\n"
     ]
    }
   ],
   "source": [
    "x_in = Input(shape=(1,), name=\"VIMLTS_il\")\n",
    "\n",
    "x_arch = VimltsLinear(units=num_hidden_units,\n",
    "                      activation=tf.keras.activations.relu,\n",
    "                      num_samples=num_samples_per_epoch,\n",
    "                      prior_dist=prior_dist)(x_in)\n",
    "x_arch = VimltsLinear(units=1,\n",
    "                      activation=tf.keras.activations.relu,\n",
    "                      num_samples=num_samples_per_epoch,\n",
    "                      prior_dist=prior_dist)(x_arch)\n",
    "\n",
    "model_VIMLTS = Model(x_in, x_arch, name=\"model_VIMLTS\")\n",
    "model_VIMLTS.summary()"
   ],
   "metadata": {
    "collapsed": false,
    "pycharm": {
     "name": "#%%\n"
    }
   }
  },
  {
   "cell_type": "markdown",
   "metadata": {
    "id": "kh13D5HfDLZV"
   },
   "source": [
    "Plot an initialization of the variational distribution"
   ]
  },
  {
   "cell_type": "code",
   "metadata": {
    "id": "i4CdaDmCDLZV",
    "outputId": "1399113e-bd87-4e88-f4b9-a2c51252a12e",
    "colab": {
     "base_uri": "https://localhost:8080/",
     "height": 250
    }
   },
   "source": [
    "# Get the variational parameters of the model\n",
    "layer_weights = model_VIMLTS.layers[1].get_weights()[:]\n",
    "lambdas_before=get_lambdas_for_w(layer_weights,0,0)\n",
    "# Get the variatioal distribution\n",
    "distribution_before=VIMLTS_utils.get_target_dist(lambdas_before)\n",
    "\n",
    "plt.figure()\n",
    "plt.plot(distribution_before[1],distribution_before[0],label=r\"Variational distribution\")\n",
    "plt.plot(np.linspace(-4,4,500),tfd.Normal(loc=0,scale=1).prob(np.linspace(-4,4,500)),label=r\"Prior\")\n",
    "plt.legend()\n",
    "plt.grid()\n",
    "plt.ylabel(r\"Density\")\n",
    "plt.xlabel(r\"$w$\")\n",
    "plt.title(r'$Initialization$');\n"
   ],
   "execution_count": 68,
   "outputs": [
    {
     "name": "stdout",
     "output_type": "stream",
     "text": [
      "Constellation not existing\n"
     ]
    },
    {
     "ename": "TypeError",
     "evalue": "'NoneType' object is not subscriptable",
     "output_type": "error",
     "traceback": [
      "\u001B[0;31m---------------------------------------------------------------------------\u001B[0m",
      "\u001B[0;31mTypeError\u001B[0m                                 Traceback (most recent call last)",
      "\u001B[0;32m<ipython-input-68-f579a6beaacc>\u001B[0m in \u001B[0;36m<module>\u001B[0;34m\u001B[0m\n\u001B[1;32m      3\u001B[0m \u001B[0mlambdas_before\u001B[0m\u001B[0;34m=\u001B[0m\u001B[0mget_lambdas_for_w\u001B[0m\u001B[0;34m(\u001B[0m\u001B[0mlayer_weights\u001B[0m\u001B[0;34m,\u001B[0m\u001B[0;36m0\u001B[0m\u001B[0;34m,\u001B[0m\u001B[0;36m0\u001B[0m\u001B[0;34m)\u001B[0m\u001B[0;34m\u001B[0m\u001B[0;34m\u001B[0m\u001B[0m\n\u001B[1;32m      4\u001B[0m \u001B[0;31m# Get the variatioal distribution\u001B[0m\u001B[0;34m\u001B[0m\u001B[0;34m\u001B[0m\u001B[0;34m\u001B[0m\u001B[0m\n\u001B[0;32m----> 5\u001B[0;31m \u001B[0mdistribution_before\u001B[0m\u001B[0;34m=\u001B[0m\u001B[0mVIMLTS_utils\u001B[0m\u001B[0;34m.\u001B[0m\u001B[0mget_target_dist\u001B[0m\u001B[0;34m(\u001B[0m\u001B[0mlambdas_before\u001B[0m\u001B[0;34m)\u001B[0m\u001B[0;34m\u001B[0m\u001B[0;34m\u001B[0m\u001B[0m\n\u001B[0m\u001B[1;32m      6\u001B[0m \u001B[0;34m\u001B[0m\u001B[0m\n\u001B[1;32m      7\u001B[0m \u001B[0mplt\u001B[0m\u001B[0;34m.\u001B[0m\u001B[0mfigure\u001B[0m\u001B[0;34m(\u001B[0m\u001B[0;34m)\u001B[0m\u001B[0;34m\u001B[0m\u001B[0;34m\u001B[0m\u001B[0m\n",
      "\u001B[0;32m~/Documents/TM-VI/src/vimlts_utils_keras.py\u001B[0m in \u001B[0;36mget_target_dist\u001B[0;34m(lambdas)\u001B[0m\n\u001B[1;32m    170\u001B[0m     \u001B[0mz_epsilon\u001B[0m\u001B[0;34m=\u001B[0m\u001B[0mtf\u001B[0m\u001B[0;34m.\u001B[0m\u001B[0mVariable\u001B[0m\u001B[0;34m(\u001B[0m\u001B[0mzz\u001B[0m\u001B[0;34m+\u001B[0m\u001B[0mepsilon\u001B[0m\u001B[0;34m)\u001B[0m\u001B[0;34m\u001B[0m\u001B[0;34m\u001B[0m\u001B[0m\n\u001B[1;32m    171\u001B[0m \u001B[0;34m\u001B[0m\u001B[0m\n\u001B[0;32m--> 172\u001B[0;31m     \u001B[0ma\u001B[0m\u001B[0;34m=\u001B[0m\u001B[0mto_a\u001B[0m\u001B[0;34m(\u001B[0m\u001B[0mlambdas\u001B[0m\u001B[0;34m[\u001B[0m\u001B[0;36m0\u001B[0m\u001B[0;34m:\u001B[0m\u001B[0;36m1\u001B[0m\u001B[0;34m]\u001B[0m\u001B[0;34m)\u001B[0m\u001B[0;34m\u001B[0m\u001B[0;34m\u001B[0m\u001B[0m\n\u001B[0m\u001B[1;32m    173\u001B[0m     \u001B[0mtheta\u001B[0m\u001B[0;34m=\u001B[0m\u001B[0mto_theta\u001B[0m\u001B[0;34m(\u001B[0m\u001B[0mlambdas\u001B[0m\u001B[0;34m[\u001B[0m\u001B[0;36m2\u001B[0m\u001B[0;34m:\u001B[0m\u001B[0;36m12\u001B[0m\u001B[0;34m]\u001B[0m\u001B[0;34m)\u001B[0m\u001B[0;34m\u001B[0m\u001B[0;34m\u001B[0m\u001B[0m\n\u001B[1;32m    174\u001B[0m     \u001B[0malpha\u001B[0m\u001B[0;34m=\u001B[0m\u001B[0mto_alpha\u001B[0m\u001B[0;34m(\u001B[0m\u001B[0mlambdas\u001B[0m\u001B[0;34m[\u001B[0m\u001B[0;36m12\u001B[0m\u001B[0;34m:\u001B[0m\u001B[0;36m13\u001B[0m\u001B[0;34m]\u001B[0m\u001B[0;34m)\u001B[0m\u001B[0;34m\u001B[0m\u001B[0;34m\u001B[0m\u001B[0m\n",
      "\u001B[0;31mTypeError\u001B[0m: 'NoneType' object is not subscriptable"
     ]
    }
   ]
  },
  {
   "cell_type": "code",
   "metadata": {
    "tags": [],
    "id": "_rNdGKTnDLZW",
    "outputId": "fb0b635e-af84-44c9-97f6-7f703442d0be",
    "colab": {
     "base_uri": "https://localhost:8080/"
    }
   },
   "source": [
    "model_VIMLTS.compile(loss=neg_log_likelihood_s, optimizer=optimizers.Adam(lr=lr,clipnorm=cn), metrics=[neg_log_likelihood_s])\n",
    "#model_VIMLTS.compile(loss=neg_log_likelihood, optimizer=optimizers.Adam(lr=lr), metrics=[neg_log_likelihood])"
   ],
   "execution_count": 69,
   "outputs": []
  },
  {
   "cell_type": "code",
   "metadata": {
    "tags": [],
    "id": "fngVgLRDDLZW",
    "outputId": "a9956d88-4287-440c-8576-135eb39cc191",
    "colab": {
     "base_uri": "https://localhost:8080/"
    }
   },
   "source": [
    "# Number of checkpoints, to save the variational distribution during the training\n",
    "checkpoints=50\n",
    "\n",
    "subepochs=int(epochs/checkpoints)\n",
    "hist_weights=[]\n",
    "\n",
    "class callback_save_weights(keras.callbacks.Callback):\n",
    "    def on_epoch_end(self, epoch, logs=None):\n",
    "        # true\n",
    "        if(epoch%subepochs==0):\n",
    "            print(\"checkpoint:\\t\",int(epoch/subepochs),\"\\tloss:\\t\",logs[\"loss\"])\n",
    "            layer_weights=[]\n",
    "            for layer in range(np.shape(self.model.layers)[0]):\n",
    "                layer_weights.append(self.model.layers[layer].get_weights()[:])\n",
    "\n",
    "            hist_weights.append(layer_weights)\n",
    "\n",
    "\n",
    "callbacks_VIMLTS = [\n",
    "        callback_save_weights()\n",
    "]\n",
    "\n",
    "# Fit the model to the data\n",
    "hist_VIMLTS=model_VIMLTS.fit(x, y, callbacks=callbacks_VIMLTS, batch_size=batch_size, epochs=epochs, verbose=0)"
   ],
   "execution_count": 70,
   "outputs": [
    {
     "name": "stdout",
     "output_type": "stream",
     "text": [
      "WARNING:tensorflow:AutoGraph could not transform <function neg_log_likelihood_s at 0x7f50b94768b0> and will run it as-is.\n",
      "Please report this to the TensorFlow team. When filing the bug, set the verbosity to 10 (on Linux, `export AUTOGRAPH_VERBOSITY=10`) and attach the full output.\n",
      "Cause: module 'gast' has no attribute 'Index'\n",
      "To silence this warning, decorate the function with @tf.autograph.experimental.do_not_convert\n"
     ]
    },
    {
     "name": "stderr",
     "output_type": "stream",
     "text": [
      "WARNING:tensorflow:AutoGraph could not transform <function neg_log_likelihood_s at 0x7f50b94768b0> and will run it as-is.\n",
      "Please report this to the TensorFlow team. When filing the bug, set the verbosity to 10 (on Linux, `export AUTOGRAPH_VERBOSITY=10`) and attach the full output.\n",
      "Cause: module 'gast' has no attribute 'Index'\n",
      "To silence this warning, decorate the function with @tf.autograph.experimental.do_not_convert\n"
     ]
    },
    {
     "name": "stdout",
     "output_type": "stream",
     "text": [
      "WARNING: AutoGraph could not transform <function neg_log_likelihood_s at 0x7f50b94768b0> and will run it as-is.\n",
      "Please report this to the TensorFlow team. When filing the bug, set the verbosity to 10 (on Linux, `export AUTOGRAPH_VERBOSITY=10`) and attach the full output.\n",
      "Cause: module 'gast' has no attribute 'Index'\n",
      "To silence this warning, decorate the function with @tf.autograph.experimental.do_not_convert\n",
      "checkpoint:\t 0 \tloss:\t 3121.786376953125\n",
      "checkpoint:\t 1 \tloss:\t 87.08744049072266\n",
      "checkpoint:\t 2 \tloss:\t 71.4054946899414\n",
      "checkpoint:\t 3 \tloss:\t 67.87628173828125\n",
      "checkpoint:\t 4 \tloss:\t 78.81398010253906\n",
      "checkpoint:\t 5 \tloss:\t 69.28761291503906\n",
      "checkpoint:\t 6 \tloss:\t 66.70672607421875\n",
      "checkpoint:\t 7 \tloss:\t 66.14646911621094\n",
      "checkpoint:\t 8 \tloss:\t 68.55680084228516\n",
      "checkpoint:\t 9 \tloss:\t 124.61929321289062\n",
      "checkpoint:\t 10 \tloss:\t 69.07923889160156\n",
      "checkpoint:\t 11 \tloss:\t 69.50717163085938\n",
      "checkpoint:\t 12 \tloss:\t 78.78218078613281\n",
      "checkpoint:\t 13 \tloss:\t 68.38887786865234\n",
      "checkpoint:\t 14 \tloss:\t 71.7494125366211\n",
      "checkpoint:\t 15 \tloss:\t 66.38410949707031\n",
      "checkpoint:\t 16 \tloss:\t 67.65536499023438\n",
      "checkpoint:\t 17 \tloss:\t 67.91537475585938\n",
      "checkpoint:\t 18 \tloss:\t 70.66853332519531\n",
      "checkpoint:\t 19 \tloss:\t 74.35694122314453\n",
      "checkpoint:\t 20 \tloss:\t 70.14167022705078\n",
      "checkpoint:\t 21 \tloss:\t 71.96392822265625\n",
      "checkpoint:\t 22 \tloss:\t 68.08600616455078\n",
      "checkpoint:\t 23 \tloss:\t 70.64967346191406\n",
      "checkpoint:\t 24 \tloss:\t 79.39307403564453\n",
      "checkpoint:\t 25 \tloss:\t 68.44397735595703\n",
      "checkpoint:\t 26 \tloss:\t 69.28619384765625\n",
      "checkpoint:\t 27 \tloss:\t 214.2952880859375\n",
      "checkpoint:\t 28 \tloss:\t 74.22982788085938\n",
      "checkpoint:\t 29 \tloss:\t 70.03886413574219\n",
      "checkpoint:\t 30 \tloss:\t 78.41078186035156\n",
      "checkpoint:\t 31 \tloss:\t 71.69801330566406\n",
      "checkpoint:\t 32 \tloss:\t 68.62883758544922\n",
      "checkpoint:\t 33 \tloss:\t 71.138916015625\n",
      "checkpoint:\t 34 \tloss:\t 68.96646881103516\n",
      "checkpoint:\t 35 \tloss:\t 68.00785827636719\n",
      "checkpoint:\t 36 \tloss:\t 69.79571533203125\n",
      "checkpoint:\t 37 \tloss:\t 80.65708923339844\n",
      "checkpoint:\t 38 \tloss:\t 69.24951934814453\n",
      "checkpoint:\t 39 \tloss:\t 71.29459381103516\n",
      "checkpoint:\t 40 \tloss:\t 74.72015380859375\n",
      "checkpoint:\t 41 \tloss:\t 68.7900161743164\n",
      "checkpoint:\t 42 \tloss:\t 72.28236389160156\n",
      "checkpoint:\t 43 \tloss:\t 69.9423599243164\n",
      "checkpoint:\t 44 \tloss:\t 96.16400909423828\n",
      "checkpoint:\t 45 \tloss:\t 69.07878112792969\n",
      "checkpoint:\t 46 \tloss:\t 105.14863586425781\n",
      "checkpoint:\t 47 \tloss:\t 68.68500518798828\n",
      "checkpoint:\t 48 \tloss:\t 71.43539428710938\n",
      "checkpoint:\t 49 \tloss:\t 72.61918640136719\n"
     ]
    }
   ]
  },
  {
   "cell_type": "markdown",
   "metadata": {
    "id": "eNavQqG8DLZW"
   },
   "source": [
    "## Analyse the run"
   ]
  },
  {
   "cell_type": "markdown",
   "metadata": {
    "id": "y3QzFOZ2DLZW"
   },
   "source": [
    "### Analyse the loss"
   ]
  },
  {
   "cell_type": "code",
   "metadata": {
    "id": "1RZouXDPDLZW",
    "outputId": "2ed7fadb-d767-4431-b10d-7c6d87ebf17a",
    "colab": {
     "base_uri": "https://localhost:8080/",
     "height": 641
    }
   },
   "source": [
    "loss_model_VIGAUSS=hist.history['loss'][np.shape(hist.history['loss'])[0]-1]\n",
    "loss_model_VIMLTS=hist_VIMLTS.history['loss'][np.shape(hist_VIMLTS.history['loss'])[0]-1]\n",
    "loss_min_VIMLTS=np.min(hist_VIMLTS.history['loss'])\n",
    "loss_min_epoche_VIMLTS=np.argmin(hist_VIMLTS.history['loss'])\n",
    "\n",
    "print(\"Minimum Loss VIMLTS:\\t\\t\",loss_min_VIMLTS)\n",
    "print(\"Minimum Loss VIMLTS an Epoche:\\t\",loss_min_epoche_VIMLTS)\n",
    "print(\"Loss nach Training VIMLTS:\\t\",loss_model_VIMLTS)\n",
    "print(\"Loss nach Training VIGAUSS:\\t\",loss_model_VIGAUSS)\n",
    "\n",
    "plt.figure()\n",
    "plt.plot(hist.history['loss'],alpha=0.8,color='peru',label=r\"VIGAUSS\")\n",
    "plt.plot(hist_VIMLTS.history['loss'],alpha=0.8,color='c',label=r\"VIMLTS\")\n",
    "plt.xlabel(r'Epochs')\n",
    "plt.ylabel(r'Total loss')\n",
    "plt.title(r'Learning curves');\n",
    "plt.grid()\n",
    "plt.legend()\n",
    "plt.ylim([0, loss_model_VIGAUSS*5])\n",
    "\n",
    "plt.figure()\n",
    "plt.plot(hist.history['loss'],alpha=0.8,color='peru',label=r\"VIGAUSS\")\n",
    "plt.plot(hist_VIMLTS.history['loss'],alpha=0.8,color='c',label=r\"VIMLTS\")\n",
    "plt.xlabel(r'Epochs')\n",
    "plt.ylabel(r'Total loss')\n",
    "plt.title(r'Learning curves');\n",
    "plt.grid()\n",
    "plt.legend()\n",
    "plt.yscale('log')\n"
   ],
   "execution_count": 71,
   "outputs": [
    {
     "name": "stdout",
     "output_type": "stream",
     "text": [
      "Minimum Loss VIMLTS:\t\t 65.51158905029297\n",
      "Minimum Loss VIMLTS an Epoche:\t 564\n",
      "Loss nach Training VIMLTS:\t 69.01780700683594\n",
      "Loss nach Training VIGAUSS:\t 40.4781379699707\n"
     ]
    },
    {
     "data": {
      "text/plain": "<Figure size 432x288 with 1 Axes>",
      "image/png": "[encoded data removed]"
     },
     "metadata": {
      "needs_background": "light"
     },
     "output_type": "display_data"
    },
    {
     "data": {
      "text/plain": "<Figure size 432x288 with 1 Axes>",
      "image/png": "[encoded data removed]"
     },
     "metadata": {
      "needs_background": "light"
     },
     "output_type": "display_data"
    }
   ]
  },
  {
   "cell_type": "markdown",
   "metadata": {
    "id": "Srz8IcKRDLZW"
   },
   "source": [
    "Show a noise reduced curve"
   ]
  },
  {
   "cell_type": "code",
   "metadata": {
    "id": "Izma7aqqDLZW",
    "outputId": "66bb3656-043d-49f1-fe62-587ef51ef72e",
    "colab": {
     "base_uri": "https://localhost:8080/",
     "height": 573
    }
   },
   "source": [
    "loss_VIGAUSS_hat = scipy.signal.savgol_filter(hist.history['loss'], 31, 1) # window size 31, polynomial order 1\n",
    "loss_VIMLTS_hat = scipy.signal.savgol_filter(hist_VIMLTS.history['loss'], 31, 1) # window size 31, polynomial order 1\n",
    "\n",
    "title=r\"learning curves\"\n",
    "plt.figure()\n",
    "plt.plot(hist.history['loss'],color='peru',alpha=0.2)\n",
    "plt.plot(hist_VIMLTS.history['loss'],color='c',alpha=0.2)\n",
    "plt.plot(loss_VIGAUSS_hat,color='peru',label=r\"VIGAUSS\")\n",
    "plt.plot(loss_VIMLTS_hat,color='c',label=r\"VIMLTS\")\n",
    "plt.ylim([0, loss_model_VIMLTS*3])\n",
    "plt.legend()\n",
    "plt.grid()\n",
    "plt.xlabel(r\"x\")\n",
    "plt.ylabel(r\"y\")\n",
    "plt.title(title)\n",
    "plt.show()\n",
    "\n",
    "title=r\"learning curves log\"\n",
    "plt.figure()\n",
    "plt.plot(hist.history['loss'],color='peru',alpha=0.2)\n",
    "plt.plot(hist_VIMLTS.history['loss'],color='c',alpha=0.2)\n",
    "plt.plot(loss_VIGAUSS_hat,color='peru',label=r\"VIGAUSS\")\n",
    "plt.plot(loss_VIMLTS_hat,color='c',label=r\"VIMLTS\")\n",
    "plt.legend()\n",
    "plt.grid()\n",
    "plt.xlabel(r\"x\")\n",
    "plt.ylabel(r\"y\")\n",
    "plt.yscale('log')\n",
    "plt.title(title)\n",
    "plt.show()"
   ],
   "execution_count": 48,
   "outputs": [
    {
     "output_type": "display_data",
     "data": {
      "image/png": "[encoded data removed]",
      "text/plain": [
       "<Figure size 432x288 with 1 Axes>"
      ]
     },
     "metadata": {
      "tags": [],
      "needs_background": "light"
     }
    },
    {
     "output_type": "display_data",
     "data": {
      "image/png": "[encoded data removed]",
      "text/plain": [
       "<Figure size 432x288 with 1 Axes>"
      ]
     },
     "metadata": {
      "tags": [],
      "needs_background": "light"
     }
    }
   ]
  },
  {
   "cell_type": "markdown",
   "metadata": {
    "id": "dBEjlDx8DLZX"
   },
   "source": [
    "### Analyse the NLL"
   ]
  },
  {
   "cell_type": "code",
   "metadata": {
    "id": "lCc4zfvSDLZX"
   },
   "source": [
    "NLL_model_VIGAUSS=hist.history['neg_log_likelihood'][np.shape(hist.history['neg_log_likelihood'])[0]-1]\n",
    "NLL_model_VIMLTS=hist_VIMLTS.history['neg_log_likelihood'][np.shape(hist_VIMLTS.history['neg_log_likelihood'])[0]-1]\n",
    "NLL_min_VIMLTS=np.min(hist_VIMLTS.history['neg_log_likelihood'])\n",
    "NLL_min_epoche_VIMLTS=np.argmin(hist_VIMLTS.history['neg_log_likelihood'])\n",
    "\n",
    "print(\"Minimum NLL VIMLTS:\\t\\t\",NLL_min_VIMLTS)\n",
    "print(\"Minimum NLL VIMLTS an Epoche:\\t\",NLL_min_epoche_VIMLTS)\n",
    "print(\"NLL nach Training VIMLTS:\\t\",NLL_model_VIMLTS)\n",
    "print(\"NLL nach Training VIGAUSS:\\t\",NLL_model_VIGAUSS)\n",
    "\n",
    "plt.figure()\n",
    "plt.plot(hist.history['neg_log_likelihood'],alpha=0.8,color='peru',label=r\"VIGAUSS\")\n",
    "plt.plot(hist_VIMLTS.history['neg_log_likelihood'],alpha=0.8,color='c',label=r\"VIMLTS\")\n",
    "plt.xlabel(r'Epochs')\n",
    "plt.ylabel(r'NLL')\n",
    "plt.title(r'NLL curves');\n",
    "plt.grid()\n",
    "plt.legend()\n",
    "plt.ylim([0, NLL_model_VIGAUSS*5])\n",
    "\n",
    "plt.figure()\n",
    "plt.plot(hist.history['neg_log_likelihood'],alpha=0.8,color='peru',label=r\"VIGAUSS\")\n",
    "plt.plot(hist_VIMLTS.history['neg_log_likelihood'],alpha=0.8,color='c',label=r\"VIMLTS\")\n",
    "plt.xlabel(r'Epochs')\n",
    "plt.ylabel(r'NLL')\n",
    "plt.title(r'NLL curves');\n",
    "plt.grid()\n",
    "plt.legend()\n",
    "plt.yscale('log')\n"
   ],
   "execution_count": null,
   "outputs": []
  },
  {
   "cell_type": "markdown",
   "metadata": {
    "id": "Cecj7Gx4DLZX"
   },
   "source": [
    "### Analyse the variational distributions of VIMLTS"
   ]
  },
  {
   "cell_type": "code",
   "metadata": {
    "id": "aKyk9b3ZDLZX"
   },
   "source": [
    "# Functions to analyze the variational distribution of VIMLTS\n",
    "from __future__ import print_function\n",
    "from ipywidgets import interact, interactive, fixed, interact_manual\n",
    "import ipywidgets as widgets\n",
    "\n",
    "\n",
    "def slider_layer_fn(show_layer):\n",
    "    global layer\n",
    "    layer=show_layer\n",
    "\n",
    "    layer_weights=model_VIMLTS.layers[layer].get_weights()[:];\n",
    "    num_neurons=np.shape(layer_weights[0])[1];\n",
    "\n",
    "    interact(slider_neuron_fn, show_neuron=widgets.IntSlider(min=0, max=num_neurons-1, step=1, value=0));\n",
    "\n",
    "\n",
    "def slider_neuron_fn(show_neuron):\n",
    "    global neuron\n",
    "    global num_neurons_bevore\n",
    "    neuron=show_neuron\n",
    "\n",
    "    layer_weights=model_VIMLTS.layers[layer].get_weights()[:];\n",
    "    num_neurons_bevore=np.shape(layer_weights[0])[0];\n",
    "\n",
    "    kernel_print_variational_dist_layer_w()\n",
    "    kernel_print_variational_dist_layer_bias()\n",
    "\n",
    "    interact(slider_from_neuron_fn, show_from_neuron=widgets.IntSlider(min=0, max=num_neurons_bevore-1, step=1, value=0));\n",
    "\n",
    "\n",
    "def slider_from_neuron_fn(show_from_neuron):\n",
    "    global from_neuron\n",
    "    from_neuron=show_from_neuron\n",
    "    kernel_print_variational_dist_w()\n",
    "\n",
    "\n",
    "def kernel_print_variational_dist_layer_w():\n",
    "    layer_weights = model_VIMLTS.layers[layer].get_weights()[:]\n",
    "    plt.figure(figsize=(12,8))\n",
    "    for j in range(num_neurons_bevore):\n",
    "        lambdas_after=get_lambdas_for_w(layer_weights=layer_weights,from_neuron_layer_bevore=j,to_neuron=neuron)\n",
    "        distribution_after=VIMLTS_utils.get_target_dist(lambdas_after)\n",
    "        plt.plot(distribution_after[1],distribution_after[0],label=r\"w\"+str(layer)+r\"_\"+str(neuron)+r\",\"+str(j))\n",
    "    plt.grid()\n",
    "    plt.xlabel(r\"w\")\n",
    "    plt.ylabel(r\"q(w)\")\n",
    "    plt.title(r\"Variational Dist - Layer \"+str(layer)+r\" - Neuron \"+str(neuron))\n",
    "    plt.legend()\n",
    "    return\n",
    "\n",
    "\n",
    "def kernel_print_variational_dist_layer_bias():\n",
    "    layer_weights = model_VIMLTS.layers[layer].get_weights()[:]\n",
    "    lambdas_after=get_lambdas_for_bias(layer_weights=layer_weights,neuron=neuron)\n",
    "    distribution_after=VIMLTS_utils.get_target_dist(lambdas_after)\n",
    "    plt.figure()\n",
    "    plt.plot(distribution_after[1],distribution_after[0])\n",
    "    plt.grid()\n",
    "    plt.xlabel(r\"w\")\n",
    "    plt.ylabel(r\"q(w)\")\n",
    "    plt.title(r\"Variational Dist Bias - Layer \"+str(layer)+r\" - Neuron \"+str(neuron))\n",
    "    return\n",
    "\n",
    "\n",
    "def kernel_print_variational_dist_w():\n",
    "    layer_weights = model_VIMLTS.layers[layer].get_weights()[:]\n",
    "    lambdas_after=get_lambdas_for_w(layer_weights=layer_weights,from_neuron_layer_bevore=from_neuron,to_neuron=neuron)\n",
    "    distribution_after=VIMLTS_utils.get_target_dist(lambdas_after)\n",
    "    plt.plot(distribution_after[1],distribution_after[0],label=r\"w\"+str(layer)+r\"_\"+str(neuron)+r\",\"+str(from_neuron))\n",
    "    plt.grid()\n",
    "    plt.xlabel(r\"w\")\n",
    "    plt.ylabel(r\"q(w)\")\n",
    "    plt.title(r\"Variational Dist - Layer \"+str(layer)+r\" - Neuron \"+str(neuron))\n",
    "    plt.legend()\n",
    "    \n",
    "    # global bnn_ms_q_dist\n",
    "    # bnn_ms_q_dist=distribution_after[1],distribution_after[0]\n",
    "    \n",
    "    return"
   ],
   "execution_count": null,
   "outputs": []
  },
  {
   "cell_type": "markdown",
   "metadata": {
    "id": "2RYD6ca7DLZX"
   },
   "source": [
    "Select a variational distribution"
   ]
  },
  {
   "cell_type": "code",
   "metadata": {
    "id": "3wOTk_6VDLZX"
   },
   "source": [
    "interact(slider_layer_fn, show_layer=widgets.IntSlider(min=1, max=np.shape(model_VIMLTS.layers)[0]-1, step=1, value=1));"
   ],
   "execution_count": null,
   "outputs": []
  },
  {
   "cell_type": "markdown",
   "metadata": {
    "id": "ffx3oI5eDLZY"
   },
   "source": [
    "Show the dynamics of the selected variational distribution"
   ]
  },
  {
   "cell_type": "code",
   "metadata": {
    "id": "H9l832iwDLZY"
   },
   "source": [
    "x_min=0\n",
    "x_max=0\n",
    "y_min=0\n",
    "y_max=0\n",
    "\n",
    "distribution=[]\n",
    "\n",
    "for i in range(np.shape(hist_weights)[0]):\n",
    "    layer_weights=hist_weights[i][layer]\n",
    "    lambdas=get_lambdas_for_w(layer_weights=layer_weights,from_neuron_layer_bevore=from_neuron, to_neuron=neuron)\n",
    "    dist=VIMLTS_utils.get_target_dist(lambdas)\n",
    "    if(np.nanmin(dist[1][dist[1] != -np.inf])<x_min):\n",
    "        x_min=np.min(dist[1])\n",
    "    if(np.nanmax(dist[1][dist[1] != np.inf])>x_max):\n",
    "        x_max=np.max(dist[1])\n",
    "    if(np.nanmin(dist[0][dist[0] != -np.inf])<y_min):\n",
    "        y_min=np.min(dist[0])\n",
    "    if(np.nanmax(dist[0][dist[0] != np.inf])>y_max):\n",
    "        y_max=np.max(dist[0])\n",
    "    distribution.append(dist)\n",
    "\n",
    "\n",
    "plt.figure(figsize=(12,8))\n",
    "plt.title(r\"Variational Distribution\");\n",
    "plt.xlabel(r\"w\");\n",
    "plt.ylabel(r\"q(w)\");\n",
    "for i in range(np.shape(distribution)[0]-1):\n",
    "    plt.plot(distribution[i][1],distribution[i][0],alpha=0.4,color=\"c\")\n",
    "\n",
    "\n",
    "plt.plot(distribution[np.shape(distribution)[0]-1][1],distribution[np.shape(distribution)[0]-1][0],color=\"r\")\n",
    "plt.grid()"
   ],
   "execution_count": null,
   "outputs": []
  },
  {
   "cell_type": "markdown",
   "metadata": {
    "id": "-YdLU7SADLZY"
   },
   "source": [
    "Animate the dynamics of the selected variational distribution"
   ]
  },
  {
   "cell_type": "code",
   "metadata": {
    "id": "ZsQ3pveODLZY"
   },
   "source": [
    "fig, ax = plt.subplots(figsize=(12,8));\n",
    "fig.patch.set_facecolor('white');\n",
    "xdata, ydata = [], []\n",
    "ln, = plt.plot([], []);\n",
    "\n",
    "\n",
    "def init():\n",
    "    ax.set_xlim(x_min, x_max);\n",
    "    ax.set_ylim(y_min, y_max);\n",
    "    return ln,\n",
    "\n",
    "def animate(i):\n",
    "    ln.set_ydata(distribution[i][0]);\n",
    "    ln.set_xdata(distribution[i][1]);\n",
    "    ln.set_label(r\"Epoch: \"+str(i*subepochs+subepochs))\n",
    "    plt.legend()\n",
    "    return ln,\n",
    "\n",
    "\n",
    "ani = animation.FuncAnimation(fig, animate, np.arange(0, checkpoints), init_func=init,\n",
    "    interval=100, blit=True);\n",
    "\n",
    "plt.grid();\n",
    "plt.title(r\"Variational distribution\");\n",
    "plt.xlabel(r\"w\");\n",
    "plt.ylabel(r\"q(w)\");\n",
    "plt.legend()\n",
    "\n",
    "HTML(ani.to_jshtml())\n"
   ],
   "execution_count": null,
   "outputs": []
  },
  {
   "cell_type": "markdown",
   "metadata": {
    "id": "oXyvxeqRDLZY"
   },
   "source": [
    "## Predictive"
   ]
  },
  {
   "cell_type": "code",
   "metadata": {
    "id": "5wHi1v2QDLZY"
   },
   "source": [
    "mu_VIGAUSS = model_VIGAUSS.predict(xx)\n",
    "y_pred_VIGAUSS = tfp.distributions.Normal(mu_VIGAUSS,sigma).sample()\n",
    "\n",
    "mu_VIMLTS = model_VIMLTS.predict(xx)\n",
    "y_pred_VIMLTS = tfp.distributions.Normal(mu_VIMLTS,sigma).sample()\n",
    "\n",
    "\n",
    "plt.plot(xx,y_pred_VIMLTS,zorder=0, label=r'VIMLTS',color='c')\n",
    "plt.plot(xx,y_pred_VIGAUSS,zorder=0,label=r'VIGAUSS',color='peru')\n",
    "plt.scatter(x, y, marker='+',c='r',zorder=1, label=r'Data')\n",
    "plt.grid()\n",
    "plt.legend()\n",
    "plt.ylabel(r\"$y$\")\n",
    "plt.xlabel(r\"$x$\")\n",
    "plt.title(r'Single prediction');"
   ],
   "execution_count": null,
   "outputs": []
  },
  {
   "cell_type": "code",
   "metadata": {
    "id": "GwdXEpYuDLZY"
   },
   "source": [
    "# VIMLTS\n",
    "y_pred_list = []\n",
    "\n",
    "# VIGAUSS\n",
    "y_pred_list_VIGAUSS = []\n",
    "\n",
    "# Iterate over number of predictions\n",
    "for i in tqdm.tqdm(range(num_predictions)):\n",
    "    # VIMLTS\n",
    "    mu_VIMLTS = model_VIMLTS.predict(xx)\n",
    "    y_pred_VIMLTS = tfp.distributions.Normal(mu_VIMLTS,sigma).sample()\n",
    "    y_pred_list.append(y_pred_VIMLTS)\n",
    "\n",
    "    # VIGAUSS\n",
    "    mu_VIGAUSS = model_VIGAUSS.predict(xx)\n",
    "    y_pred_VIGAUSS = tfp.distributions.Normal(mu_VIGAUSS,sigma).sample()\n",
    "    y_pred_list_VIGAUSS.append(y_pred_VIGAUSS)\n",
    "\n",
    "# VIMLTS\n",
    "y_preds = np.concatenate(y_pred_list, axis=1)\n",
    "y_predictions_mean=np.mean(y_preds,axis=1)\n",
    "y_predictions_2p5=np.quantile(y_preds,0.025,axis=1)\n",
    "y_predictions_97p5=np.quantile(y_preds,0.975,axis=1)\n",
    "y_predictions_50p0=np.quantile(y_preds,0.5,axis=1)\n",
    "\n",
    "# VIGAUSS\n",
    "y_preds_VIGAUSS = np.concatenate(y_pred_list_VIGAUSS, axis=1)\n",
    "y_predictions_mean_VIGAUSS=np.mean(y_preds_VIGAUSS,axis=1)\n",
    "y_predictions_2p5_VIGAUSS=np.quantile(y_preds_VIGAUSS,0.025,axis=1)\n",
    "y_predictions_97p5_VIGAUSS=np.quantile(y_preds_VIGAUSS,0.975,axis=1)\n",
    "y_predictions_50p0_VIGAUSS=np.quantile(y_preds_VIGAUSS,0.5,axis=1)\n"
   ],
   "execution_count": null,
   "outputs": []
  },
  {
   "cell_type": "code",
   "metadata": {
    "id": "0yv3eiOhDLZZ"
   },
   "source": [
    "fig = plt.figure(constrained_layout=True, figsize=(18,11))\n",
    "gs = fig.add_gridspec(2, 4)\n",
    "ax1 = fig.add_subplot(gs[0, 1:3])\n",
    "ax2 = fig.add_subplot(gs[1, 0:2])\n",
    "ax3 = fig.add_subplot(gs[1, 2:4])\n",
    "\n",
    "#fig.tight_layout(pad=0.0)\n",
    "\n",
    "plt.rc('xtick', labelsize=22) \n",
    "plt.rc('ytick', labelsize=22)\n",
    "plt.rc('axes', labelsize=22)\n",
    "plt.rc('figure', titlesize=22)\n",
    "plt.rc('axes', titlesize=22)  \n",
    "plt.rc('legend', fontsize=22)\n",
    "\n",
    "plt.rcParams['mathtext.fontset'] = 'cm'\n",
    "\n",
    "linewidth=3\n",
    "\n",
    "ax1.fill_between(xx.reshape(-1),samples_predictions_97p5,samples_predictions_2p5, color='g', alpha=0.5, label=(r\"MCMC - 95% PI\"))\n",
    "ax1.plot(xx,samples_predictions_50p0, color='g' ,label=(r\"MCMC - median\"), linewidth=linewidth)\n",
    "ax1.scatter(x,y, marker='.', color='r', label=(r\"Data\"), linewidths=linewidth,  zorder=10)\n",
    "ax1.set_xlim([-10,10])\n",
    "ax1.set_ylim([-5,5])\n",
    "ax1.set_xlabel(r'x')\n",
    "ax1.set_ylabel(r'y')\n",
    "ax1.set_title(r'MCMC')\n",
    "\n",
    "ax1.legend()\n",
    "\n",
    "ax2.fill_between(xx.reshape(-1),y_predictions_97p5_VIGAUSS,y_predictions_2p5_VIGAUSS, color='peru', alpha=0.5, label=(r\"VIGAUSS - 95% PI\"))\n",
    "#ax2.plot(x_test_hello_world,vimlt_predictions_mean_hello_world, color='peru' ,label=(r\"VIMLT - mean\"))\n",
    "ax2.plot(xx,y_predictions_50p0_VIGAUSS, color='peru' ,label=(r\"VIGAUSS - median\"), linewidth=linewidth)\n",
    "ax2.scatter(x,y, marker='.', color='r', label=(r\"Data\"), linewidths=linewidth, zorder=10)\n",
    "ax2.set_xlim([-10,10])\n",
    "ax2.set_ylim([-5,5])\n",
    "ax2.set_xlabel(r'x')\n",
    "ax2.set_ylabel(r'y')\n",
    "ax2.set_title(r'VIGAUSS')\n",
    "ax2.legend()\n",
    "\n",
    "\n",
    "ax3.fill_between(xx.reshape(-1),y_predictions_97p5,y_predictions_2p5, color='c', alpha=0.5, label=(r\"VIMLTS - 95% PI\"))\n",
    "#ax3.plot(x_test_hello_world,vimlts_predictions_mean_hello_world, color='c' ,label=(r\"VIMLTS - mean\"))\n",
    "ax3.plot(xx,y_predictions_50p0, color='c' ,label=(r\"VIMLTS - median\"), linewidth=linewidth)\n",
    "ax3.scatter(x,y, marker='.', color='r', label=(r\"Data\"), linewidths=linewidth, zorder=10)\n",
    "ax3.set_xlim([-10,10])\n",
    "ax3.set_ylim([-5,5])\n",
    "ax3.set_xlabel(r'x')\n",
    "ax3.set_ylabel(r'y')\n",
    "ax3.set_title(r'VIMLTS')\n",
    "ax3.legend()\n",
    "\n",
    "plt.savefig('output/bnn_ms_ppd.svg', format='svg')\n",
    "plt.savefig('output/bnn_ms_ppd.pdf', format='pdf')"
   ],
   "execution_count": null,
   "outputs": []
  },
  {
   "cell_type": "markdown",
   "metadata": {
    "id": "Rgo8ZHVADLZZ"
   },
   "source": [
    "Evaluate the model with the NLL"
   ]
  },
  {
   "cell_type": "code",
   "metadata": {
    "id": "u_l4hz7DDLZZ"
   },
   "source": [
    "VIGAUSS_NLL_test_list = []\n",
    "VIMLTS_NLL_test_list = []\n",
    "num_evaluations=20\n",
    "\n",
    "for i in range(num_evaluations):\n",
    "    clear_output()\n",
    "    print(\"round:\\t\",i,\"/\",num_evaluations)\n",
    "    VIGAUSS_NLL_test_list.append(model_VIGAUSS.evaluate(x_test, y_test, batch_size=batch_size)[1])\n",
    "    VIMLTS_NLL_test_list.append(model_VIMLTS.evaluate(x_test, y_test, batch_size=batch_size)[1])\n",
    "\n",
    "VIGAUSS_NLL_test_mean=np.mean(VIGAUSS_NLL_test_list)\n",
    "VIGAUSS_NLL_test_median=np.median(VIGAUSS_NLL_test_list)\n",
    "VIMLTS_NLL_test_mean=np.mean(VIMLTS_NLL_test_list)\n",
    "VIMLTS_NLL_test_median=np.median(VIMLTS_NLL_test_list)\n",
    "print()\n",
    "print()\n",
    "print(\"VIGAUSS NLL test mean:\\t\\t\",VIGAUSS_NLL_test_mean)\n",
    "print(\"VIMLTS NLL test mean:\\t\\t\",VIMLTS_NLL_test_mean)\n",
    "\n",
    "\n",
    "print(\"VIGAUSS NLL test median:\\t\",VIGAUSS_NLL_test_median)\n",
    "print(\"VIMLTS NLL test median:\\t\\t\",VIMLTS_NLL_test_median)\n"
   ],
   "execution_count": null,
   "outputs": []
  },
  {
   "cell_type": "markdown",
   "metadata": {
    "id": "jV8XajHSDLZZ"
   },
   "source": [
    "# Save the variables"
   ]
  },
  {
   "cell_type": "code",
   "metadata": {
    "id": "xanA9DPfDLZZ"
   },
   "source": [
    "import pandas as pd\n",
    "import pickle"
   ],
   "execution_count": null,
   "outputs": []
  },
  {
   "cell_type": "code",
   "metadata": {
    "id": "0X1MNUOHDLZZ"
   },
   "source": [
    "lambdas_VIMLTS_03_shallow_layer_1=model_VIMLTS.layers[1].get_weights()[:]\n",
    "lambdas_VIMLTS_03_shallow_layer_2=model_VIMLTS.layers[2].get_weights()[:]"
   ],
   "execution_count": null,
   "outputs": []
  },
  {
   "cell_type": "code",
   "metadata": {
    "id": "rBuvLl68DLZZ"
   },
   "source": [
    "df_03_lambdas=pd.DataFrame()\n",
    "df_03_lambdas['lambdas_VIMLTS_03_shallow_layer_1']=lambdas_VIMLTS_03_shallow_layer_1\n",
    "df_03_lambdas['lambdas_VIMLTS_03_shallow_layer_2']=lambdas_VIMLTS_03_shallow_layer_2"
   ],
   "execution_count": null,
   "outputs": []
  },
  {
   "cell_type": "code",
   "metadata": {
    "id": "0sHERT89DLZa"
   },
   "source": [
    "if use_mcmc:\n",
    "    df_03_mcmc_weights=pd.DataFrame()\n",
    "    for i in range(num_hidden_units):\n",
    "        df_03_mcmc_weights[\"w_0_\"+str(i)+\"0\"]=fit_mcmc.extract()['w_first'][:,0,0]\n",
    "\n",
    "    for i in range(num_hidden_units):\n",
    "        df_03_mcmc_weights[\"w_1_0\"+str(i)]=fit_mcmc.extract()['w_output'][:,i]\n",
    "\n",
    "    for i in range(num_hidden_units):\n",
    "        df_03_mcmc_weights[\"b_0_\"+str(i)]=fit_mcmc.extract()['bias_first'][:,i]\n",
    "\n",
    "    df_03_mcmc_weights[\"b_1_0\"]=fit_mcmc.extract()['bias_output']"
   ],
   "execution_count": null,
   "outputs": []
  },
  {
   "cell_type": "code",
   "metadata": {
    "id": "OfWWFMWxDLZa"
   },
   "source": [
    "pickle.dump( df_03_lambdas, open( \"df_03_lambdas.p\", \"wb\" ) )\n",
    "pickle.dump( df_03_mcmc_weights, open( \"df_03_mcmc_weights.p\", \"wb\" ) )"
   ],
   "execution_count": null,
   "outputs": []
  }
 ]
}